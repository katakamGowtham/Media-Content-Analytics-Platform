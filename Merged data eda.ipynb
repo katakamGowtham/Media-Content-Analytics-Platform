{
 "cells": [
  {
   "cell_type": "code",
   "execution_count": 1,
   "id": "d299810d",
   "metadata": {},
   "outputs": [
    {
     "data": {
      "text/html": [
       "<div>\n",
       "<style scoped>\n",
       "    .dataframe tbody tr th:only-of-type {\n",
       "        vertical-align: middle;\n",
       "    }\n",
       "\n",
       "    .dataframe tbody tr th {\n",
       "        vertical-align: top;\n",
       "    }\n",
       "\n",
       "    .dataframe thead th {\n",
       "        text-align: right;\n",
       "    }\n",
       "</style>\n",
       "<table border=\"1\" class=\"dataframe\">\n",
       "  <thead>\n",
       "    <tr style=\"text-align: right;\">\n",
       "      <th></th>\n",
       "      <th>title</th>\n",
       "      <th>published_date</th>\n",
       "      <th>views</th>\n",
       "      <th>likes</th>\n",
       "      <th>comments</th>\n",
       "      <th>category</th>\n",
       "    </tr>\n",
       "  </thead>\n",
       "  <tbody>\n",
       "    <tr>\n",
       "      <th>0</th>\n",
       "      <td>Can Fit in Your Closet...</td>\n",
       "      <td>2025-03-13T14:39:55Z</td>\n",
       "      <td>273650</td>\n",
       "      <td>4911</td>\n",
       "      <td>307</td>\n",
       "      <td>Science &amp; Technology</td>\n",
       "    </tr>\n",
       "    <tr>\n",
       "      <th>1</th>\n",
       "      <td>Massage Your Mouth...</td>\n",
       "      <td>2025-03-05T15:20:26Z</td>\n",
       "      <td>917282</td>\n",
       "      <td>5852</td>\n",
       "      <td>45</td>\n",
       "      <td>Science &amp; Technology</td>\n",
       "    </tr>\n",
       "    <tr>\n",
       "      <th>2</th>\n",
       "      <td>The Ultimate Limited Edition Gaming Phone</td>\n",
       "      <td>2025-02-27T15:01:14Z</td>\n",
       "      <td>1001785</td>\n",
       "      <td>23417</td>\n",
       "      <td>755</td>\n",
       "      <td>Science &amp; Technology</td>\n",
       "    </tr>\n",
       "    <tr>\n",
       "      <th>3</th>\n",
       "      <td>The Unbelievably Thin Folding Smartphone...</td>\n",
       "      <td>2025-02-25T21:33:23Z</td>\n",
       "      <td>1194032</td>\n",
       "      <td>24983</td>\n",
       "      <td>819</td>\n",
       "      <td>Science &amp; Technology</td>\n",
       "    </tr>\n",
       "    <tr>\n",
       "      <th>4</th>\n",
       "      <td>Astonishing New Music Gadget...</td>\n",
       "      <td>2025-02-23T16:02:28Z</td>\n",
       "      <td>981959</td>\n",
       "      <td>17929</td>\n",
       "      <td>167</td>\n",
       "      <td>Science &amp; Technology</td>\n",
       "    </tr>\n",
       "    <tr>\n",
       "      <th>...</th>\n",
       "      <td>...</td>\n",
       "      <td>...</td>\n",
       "      <td>...</td>\n",
       "      <td>...</td>\n",
       "      <td>...</td>\n",
       "      <td>...</td>\n",
       "    </tr>\n",
       "    <tr>\n",
       "      <th>1095</th>\n",
       "      <td>EVERY AMD Ultimate Tech Upgrade! 2024 Edition!</td>\n",
       "      <td>2025-01-19T17:52:38Z</td>\n",
       "      <td>254007</td>\n",
       "      <td>8386</td>\n",
       "      <td>588</td>\n",
       "      <td>Science &amp; Technology</td>\n",
       "    </tr>\n",
       "    <tr>\n",
       "      <th>1096</th>\n",
       "      <td>I Hate Nintendo and I’m Buying a Switch 2 IMME...</td>\n",
       "      <td>2025-01-18T08:35:23Z</td>\n",
       "      <td>4514222</td>\n",
       "      <td>120737</td>\n",
       "      <td>7918</td>\n",
       "      <td>Science &amp; Technology</td>\n",
       "    </tr>\n",
       "    <tr>\n",
       "      <th>1097</th>\n",
       "      <td>Color Changing Tech Glasses</td>\n",
       "      <td>2025-01-18T05:20:00Z</td>\n",
       "      <td>740857</td>\n",
       "      <td>29927</td>\n",
       "      <td>681</td>\n",
       "      <td>Science &amp; Technology</td>\n",
       "    </tr>\n",
       "    <tr>\n",
       "      <th>1098</th>\n",
       "      <td>Breaking My Silence - WAN Show January 17, 2025</td>\n",
       "      <td>2025-01-18T04:55:53Z</td>\n",
       "      <td>1065999</td>\n",
       "      <td>30245</td>\n",
       "      <td>4901</td>\n",
       "      <td>Science &amp; Technology</td>\n",
       "    </tr>\n",
       "    <tr>\n",
       "      <th>1099</th>\n",
       "      <td>Playing what you want on Arc - Battlemage Edition</td>\n",
       "      <td>2025-01-16T23:11:40Z</td>\n",
       "      <td>641250</td>\n",
       "      <td>10155</td>\n",
       "      <td>472</td>\n",
       "      <td>Science &amp; Technology</td>\n",
       "    </tr>\n",
       "  </tbody>\n",
       "</table>\n",
       "<p>1100 rows × 6 columns</p>\n",
       "</div>"
      ],
      "text/plain": [
       "                                                  title        published_date  \\\n",
       "0                             Can Fit in Your Closet...  2025-03-13T14:39:55Z   \n",
       "1                                 Massage Your Mouth...  2025-03-05T15:20:26Z   \n",
       "2             The Ultimate Limited Edition Gaming Phone  2025-02-27T15:01:14Z   \n",
       "3           The Unbelievably Thin Folding Smartphone...  2025-02-25T21:33:23Z   \n",
       "4                       Astonishing New Music Gadget...  2025-02-23T16:02:28Z   \n",
       "...                                                 ...                   ...   \n",
       "1095     EVERY AMD Ultimate Tech Upgrade! 2024 Edition!  2025-01-19T17:52:38Z   \n",
       "1096  I Hate Nintendo and I’m Buying a Switch 2 IMME...  2025-01-18T08:35:23Z   \n",
       "1097                        Color Changing Tech Glasses  2025-01-18T05:20:00Z   \n",
       "1098    Breaking My Silence - WAN Show January 17, 2025  2025-01-18T04:55:53Z   \n",
       "1099  Playing what you want on Arc - Battlemage Edition  2025-01-16T23:11:40Z   \n",
       "\n",
       "        views   likes  comments              category  \n",
       "0      273650    4911       307  Science & Technology  \n",
       "1      917282    5852        45  Science & Technology  \n",
       "2     1001785   23417       755  Science & Technology  \n",
       "3     1194032   24983       819  Science & Technology  \n",
       "4      981959   17929       167  Science & Technology  \n",
       "...       ...     ...       ...                   ...  \n",
       "1095   254007    8386       588  Science & Technology  \n",
       "1096  4514222  120737      7918  Science & Technology  \n",
       "1097   740857   29927       681  Science & Technology  \n",
       "1098  1065999   30245      4901  Science & Technology  \n",
       "1099   641250   10155       472  Science & Technology  \n",
       "\n",
       "[1100 rows x 6 columns]"
      ]
     },
     "execution_count": 1,
     "metadata": {},
     "output_type": "execute_result"
    }
   ],
   "source": [
    "import pandas as pd\n",
    "\n",
    "df1 = pd.read_csv(\"youtube_data.csv\")\n",
    "df1"
   ]
  },
  {
   "cell_type": "code",
   "execution_count": 2,
   "id": "67d870de",
   "metadata": {},
   "outputs": [
    {
     "data": {
      "text/plain": [
       "array(['Science & Technology', 'News & Politics', 'Autos & Vehicles',\n",
       "       'Education', 'Film & Animation', 'Entertainment', 'Howto & Style',\n",
       "       'People & Blogs', 'Music', 'Travel & Events'], dtype=object)"
      ]
     },
     "execution_count": 2,
     "metadata": {},
     "output_type": "execute_result"
    }
   ],
   "source": [
    "df1[\"category\"].unique()"
   ]
  },
  {
   "cell_type": "code",
   "execution_count": 3,
   "id": "1338f26e",
   "metadata": {},
   "outputs": [
    {
     "data": {
      "text/html": [
       "<div>\n",
       "<style scoped>\n",
       "    .dataframe tbody tr th:only-of-type {\n",
       "        vertical-align: middle;\n",
       "    }\n",
       "\n",
       "    .dataframe tbody tr th {\n",
       "        vertical-align: top;\n",
       "    }\n",
       "\n",
       "    .dataframe thead th {\n",
       "        text-align: right;\n",
       "    }\n",
       "</style>\n",
       "<table border=\"1\" class=\"dataframe\">\n",
       "  <thead>\n",
       "    <tr style=\"text-align: right;\">\n",
       "      <th></th>\n",
       "      <th>Unnamed: 0</th>\n",
       "      <th>link</th>\n",
       "      <th>headline</th>\n",
       "      <th>category</th>\n",
       "      <th>short_description</th>\n",
       "      <th>authors</th>\n",
       "      <th>date</th>\n",
       "    </tr>\n",
       "  </thead>\n",
       "  <tbody>\n",
       "    <tr>\n",
       "      <th>0</th>\n",
       "      <td>0</td>\n",
       "      <td>https://www.huffpost.com/entry/covid-boosters-...</td>\n",
       "      <td>Over 4 Million Americans Roll Up Sleeves For O...</td>\n",
       "      <td>U.S. NEWS</td>\n",
       "      <td>Health experts said it is too early to predict...</td>\n",
       "      <td>Carla K. Johnson, AP</td>\n",
       "      <td>2022-09-23</td>\n",
       "    </tr>\n",
       "    <tr>\n",
       "      <th>1</th>\n",
       "      <td>1</td>\n",
       "      <td>https://www.huffpost.com/entry/american-airlin...</td>\n",
       "      <td>American Airlines Flyer Charged, Banned For Li...</td>\n",
       "      <td>U.S. NEWS</td>\n",
       "      <td>He was subdued by passengers and crew when he ...</td>\n",
       "      <td>Mary Papenfuss</td>\n",
       "      <td>2022-09-23</td>\n",
       "    </tr>\n",
       "    <tr>\n",
       "      <th>2</th>\n",
       "      <td>2</td>\n",
       "      <td>https://www.huffpost.com/entry/funniest-tweets...</td>\n",
       "      <td>23 Of The Funniest Tweets About Cats And Dogs ...</td>\n",
       "      <td>COMEDY</td>\n",
       "      <td>\"Until you have a dog you don't understand wha...</td>\n",
       "      <td>Elyse Wanshel</td>\n",
       "      <td>2022-09-23</td>\n",
       "    </tr>\n",
       "    <tr>\n",
       "      <th>3</th>\n",
       "      <td>3</td>\n",
       "      <td>https://www.huffpost.com/entry/funniest-parent...</td>\n",
       "      <td>The Funniest Tweets From Parents This Week (Se...</td>\n",
       "      <td>PARENTING</td>\n",
       "      <td>\"Accidentally put grown-up toothpaste on my to...</td>\n",
       "      <td>Caroline Bologna</td>\n",
       "      <td>2022-09-23</td>\n",
       "    </tr>\n",
       "    <tr>\n",
       "      <th>4</th>\n",
       "      <td>4</td>\n",
       "      <td>https://www.huffpost.com/entry/amy-cooper-lose...</td>\n",
       "      <td>Woman Who Called Cops On Black Bird-Watcher Lo...</td>\n",
       "      <td>U.S. NEWS</td>\n",
       "      <td>Amy Cooper accused investment firm Franklin Te...</td>\n",
       "      <td>Nina Golgowski</td>\n",
       "      <td>2022-09-22</td>\n",
       "    </tr>\n",
       "    <tr>\n",
       "      <th>...</th>\n",
       "      <td>...</td>\n",
       "      <td>...</td>\n",
       "      <td>...</td>\n",
       "      <td>...</td>\n",
       "      <td>...</td>\n",
       "      <td>...</td>\n",
       "      <td>...</td>\n",
       "    </tr>\n",
       "    <tr>\n",
       "      <th>209522</th>\n",
       "      <td>209522</td>\n",
       "      <td>https://www.huffingtonpost.com/entry/rim-ceo-t...</td>\n",
       "      <td>RIM CEO Thorsten Heins' 'Significant' Plans Fo...</td>\n",
       "      <td>TECH</td>\n",
       "      <td>Verizon Wireless and AT&amp;T are already promotin...</td>\n",
       "      <td>Reuters, Reuters</td>\n",
       "      <td>2012-01-28</td>\n",
       "    </tr>\n",
       "    <tr>\n",
       "      <th>209523</th>\n",
       "      <td>209523</td>\n",
       "      <td>https://www.huffingtonpost.com/entry/maria-sha...</td>\n",
       "      <td>Maria Sharapova Stunned By Victoria Azarenka I...</td>\n",
       "      <td>SPORTS</td>\n",
       "      <td>Afterward, Azarenka, more effusive with the pr...</td>\n",
       "      <td>NaN</td>\n",
       "      <td>2012-01-28</td>\n",
       "    </tr>\n",
       "    <tr>\n",
       "      <th>209524</th>\n",
       "      <td>209524</td>\n",
       "      <td>https://www.huffingtonpost.com/entry/super-bow...</td>\n",
       "      <td>Giants Over Patriots, Jets Over Colts Among  M...</td>\n",
       "      <td>SPORTS</td>\n",
       "      <td>Leading up to Super Bowl XLVI, the most talked...</td>\n",
       "      <td>NaN</td>\n",
       "      <td>2012-01-28</td>\n",
       "    </tr>\n",
       "    <tr>\n",
       "      <th>209525</th>\n",
       "      <td>209525</td>\n",
       "      <td>https://www.huffingtonpost.com/entry/aldon-smi...</td>\n",
       "      <td>Aldon Smith Arrested: 49ers Linebacker Busted ...</td>\n",
       "      <td>SPORTS</td>\n",
       "      <td>CORRECTION: An earlier version of this story i...</td>\n",
       "      <td>NaN</td>\n",
       "      <td>2012-01-28</td>\n",
       "    </tr>\n",
       "    <tr>\n",
       "      <th>209526</th>\n",
       "      <td>209526</td>\n",
       "      <td>https://www.huffingtonpost.com/entry/dwight-ho...</td>\n",
       "      <td>Dwight Howard Rips Teammates After Magic Loss ...</td>\n",
       "      <td>SPORTS</td>\n",
       "      <td>The five-time all-star center tore into his te...</td>\n",
       "      <td>NaN</td>\n",
       "      <td>2012-01-28</td>\n",
       "    </tr>\n",
       "  </tbody>\n",
       "</table>\n",
       "<p>209527 rows × 7 columns</p>\n",
       "</div>"
      ],
      "text/plain": [
       "        Unnamed: 0                                               link  \\\n",
       "0                0  https://www.huffpost.com/entry/covid-boosters-...   \n",
       "1                1  https://www.huffpost.com/entry/american-airlin...   \n",
       "2                2  https://www.huffpost.com/entry/funniest-tweets...   \n",
       "3                3  https://www.huffpost.com/entry/funniest-parent...   \n",
       "4                4  https://www.huffpost.com/entry/amy-cooper-lose...   \n",
       "...            ...                                                ...   \n",
       "209522      209522  https://www.huffingtonpost.com/entry/rim-ceo-t...   \n",
       "209523      209523  https://www.huffingtonpost.com/entry/maria-sha...   \n",
       "209524      209524  https://www.huffingtonpost.com/entry/super-bow...   \n",
       "209525      209525  https://www.huffingtonpost.com/entry/aldon-smi...   \n",
       "209526      209526  https://www.huffingtonpost.com/entry/dwight-ho...   \n",
       "\n",
       "                                                 headline   category  \\\n",
       "0       Over 4 Million Americans Roll Up Sleeves For O...  U.S. NEWS   \n",
       "1       American Airlines Flyer Charged, Banned For Li...  U.S. NEWS   \n",
       "2       23 Of The Funniest Tweets About Cats And Dogs ...     COMEDY   \n",
       "3       The Funniest Tweets From Parents This Week (Se...  PARENTING   \n",
       "4       Woman Who Called Cops On Black Bird-Watcher Lo...  U.S. NEWS   \n",
       "...                                                   ...        ...   \n",
       "209522  RIM CEO Thorsten Heins' 'Significant' Plans Fo...       TECH   \n",
       "209523  Maria Sharapova Stunned By Victoria Azarenka I...     SPORTS   \n",
       "209524  Giants Over Patriots, Jets Over Colts Among  M...     SPORTS   \n",
       "209525  Aldon Smith Arrested: 49ers Linebacker Busted ...     SPORTS   \n",
       "209526  Dwight Howard Rips Teammates After Magic Loss ...     SPORTS   \n",
       "\n",
       "                                        short_description  \\\n",
       "0       Health experts said it is too early to predict...   \n",
       "1       He was subdued by passengers and crew when he ...   \n",
       "2       \"Until you have a dog you don't understand wha...   \n",
       "3       \"Accidentally put grown-up toothpaste on my to...   \n",
       "4       Amy Cooper accused investment firm Franklin Te...   \n",
       "...                                                   ...   \n",
       "209522  Verizon Wireless and AT&T are already promotin...   \n",
       "209523  Afterward, Azarenka, more effusive with the pr...   \n",
       "209524  Leading up to Super Bowl XLVI, the most talked...   \n",
       "209525  CORRECTION: An earlier version of this story i...   \n",
       "209526  The five-time all-star center tore into his te...   \n",
       "\n",
       "                     authors        date  \n",
       "0       Carla K. Johnson, AP  2022-09-23  \n",
       "1             Mary Papenfuss  2022-09-23  \n",
       "2              Elyse Wanshel  2022-09-23  \n",
       "3           Caroline Bologna  2022-09-23  \n",
       "4             Nina Golgowski  2022-09-22  \n",
       "...                      ...         ...  \n",
       "209522      Reuters, Reuters  2012-01-28  \n",
       "209523                   NaN  2012-01-28  \n",
       "209524                   NaN  2012-01-28  \n",
       "209525                   NaN  2012-01-28  \n",
       "209526                   NaN  2012-01-28  \n",
       "\n",
       "[209527 rows x 7 columns]"
      ]
     },
     "execution_count": 3,
     "metadata": {},
     "output_type": "execute_result"
    }
   ],
   "source": [
    "df2 = pd.read_csv(\"News_Category_Dataset_v3.csv\")\n",
    "df2"
   ]
  },
  {
   "cell_type": "code",
   "execution_count": 4,
   "id": "1417802d",
   "metadata": {},
   "outputs": [
    {
     "data": {
      "text/plain": [
       "array(['U.S. NEWS', 'COMEDY', 'PARENTING', 'WORLD NEWS', 'CULTURE & ARTS',\n",
       "       'TECH', 'SPORTS', 'ENTERTAINMENT', 'POLITICS', 'WEIRD NEWS',\n",
       "       'ENVIRONMENT', 'EDUCATION', 'CRIME', 'SCIENCE', 'WELLNESS',\n",
       "       'BUSINESS', 'STYLE & BEAUTY', 'FOOD & DRINK', 'MEDIA',\n",
       "       'QUEER VOICES', 'HOME & LIVING', 'WOMEN', 'BLACK VOICES', 'TRAVEL',\n",
       "       'MONEY', 'RELIGION', 'LATINO VOICES', 'IMPACT', 'WEDDINGS',\n",
       "       'COLLEGE', 'PARENTS', 'ARTS & CULTURE', 'STYLE', 'GREEN', 'TASTE',\n",
       "       'HEALTHY LIVING', 'THE WORLDPOST', 'GOOD NEWS', 'WORLDPOST',\n",
       "       'FIFTY', 'ARTS', 'DIVORCE'], dtype=object)"
      ]
     },
     "execution_count": 4,
     "metadata": {},
     "output_type": "execute_result"
    }
   ],
   "source": [
    "df2[\"category\"].unique()"
   ]
  },
  {
   "cell_type": "code",
   "execution_count": 5,
   "id": "662efb68",
   "metadata": {},
   "outputs": [],
   "source": [
    "df2[\"date\"] = pd.to_datetime(df2[\"date\"])\n",
    "\n",
    "# Define category mappings\n",
    "category_mapping = {\n",
    "    \"U.S. NEWS\": \"News & Politics\",\n",
    "    \"WORLD NEWS\": \"News & Politics\",\n",
    "    \"POLITICS\": \"News & Politics\",\n",
    "    \"COMEDY\": \"Entertainment\",\n",
    "    \"ENTERTAINMENT\": \"Entertainment\",\n",
    "    \"ARTS & CULTURE\": \"Entertainment\",\n",
    "    \"PARENTING\": \"Lifestyle & Family\",\n",
    "    \"EDUCATION\": \"Lifestyle & Family\",\n",
    "    \"STYLE & BEAUTY\": \"Lifestyle & Family\",\n",
    "    \"SPORTS\": \"Health & Sports\",\n",
    "    \"HEALTHY LIVING\": \"Health & Sports\",\n",
    "    \"WELLNESS\": \"Health & Sports\",\n",
    "    \"FOOD & DRINK\": \"Health & Sports\",\n",
    "    \"BUSINESS\": \"Business & Science\",\n",
    "    \"MONEY\": \"Business & Science\",\n",
    "    \"SCIENCE\": \"Business & Science\",\n",
    "    \"ENVIRONMENT\": \"Business & Science\",\n",
    "    \"TECHNOLOGY\": \"Technology\",\n",
    "    \"TECH\": \"Technology\"\n",
    "}\n",
    "\n",
    "# Apply the category mapping\n",
    "df2[\"grouped_category\"] = df2[\"category\"].map(category_mapping).fillna(\"Other\")\n",
    "\n",
    "# Count occurrences of each grouped category\n",
    "category_counts = df2[\"grouped_category\"].value_counts()"
   ]
  },
  {
   "cell_type": "code",
   "execution_count": 6,
   "id": "8cefbc42",
   "metadata": {},
   "outputs": [
    {
     "data": {
      "text/html": [
       "<div>\n",
       "<style scoped>\n",
       "    .dataframe tbody tr th:only-of-type {\n",
       "        vertical-align: middle;\n",
       "    }\n",
       "\n",
       "    .dataframe tbody tr th {\n",
       "        vertical-align: top;\n",
       "    }\n",
       "\n",
       "    .dataframe thead th {\n",
       "        text-align: right;\n",
       "    }\n",
       "</style>\n",
       "<table border=\"1\" class=\"dataframe\">\n",
       "  <thead>\n",
       "    <tr style=\"text-align: right;\">\n",
       "      <th></th>\n",
       "      <th>Unnamed: 0</th>\n",
       "      <th>link</th>\n",
       "      <th>headline</th>\n",
       "      <th>category</th>\n",
       "      <th>short_description</th>\n",
       "      <th>authors</th>\n",
       "      <th>date</th>\n",
       "      <th>grouped_category</th>\n",
       "    </tr>\n",
       "  </thead>\n",
       "  <tbody>\n",
       "    <tr>\n",
       "      <th>0</th>\n",
       "      <td>0</td>\n",
       "      <td>https://www.huffpost.com/entry/covid-boosters-...</td>\n",
       "      <td>Over 4 Million Americans Roll Up Sleeves For O...</td>\n",
       "      <td>U.S. NEWS</td>\n",
       "      <td>Health experts said it is too early to predict...</td>\n",
       "      <td>Carla K. Johnson, AP</td>\n",
       "      <td>2022-09-23</td>\n",
       "      <td>News &amp; Politics</td>\n",
       "    </tr>\n",
       "    <tr>\n",
       "      <th>1</th>\n",
       "      <td>1</td>\n",
       "      <td>https://www.huffpost.com/entry/american-airlin...</td>\n",
       "      <td>American Airlines Flyer Charged, Banned For Li...</td>\n",
       "      <td>U.S. NEWS</td>\n",
       "      <td>He was subdued by passengers and crew when he ...</td>\n",
       "      <td>Mary Papenfuss</td>\n",
       "      <td>2022-09-23</td>\n",
       "      <td>News &amp; Politics</td>\n",
       "    </tr>\n",
       "    <tr>\n",
       "      <th>2</th>\n",
       "      <td>2</td>\n",
       "      <td>https://www.huffpost.com/entry/funniest-tweets...</td>\n",
       "      <td>23 Of The Funniest Tweets About Cats And Dogs ...</td>\n",
       "      <td>COMEDY</td>\n",
       "      <td>\"Until you have a dog you don't understand wha...</td>\n",
       "      <td>Elyse Wanshel</td>\n",
       "      <td>2022-09-23</td>\n",
       "      <td>Entertainment</td>\n",
       "    </tr>\n",
       "    <tr>\n",
       "      <th>3</th>\n",
       "      <td>3</td>\n",
       "      <td>https://www.huffpost.com/entry/funniest-parent...</td>\n",
       "      <td>The Funniest Tweets From Parents This Week (Se...</td>\n",
       "      <td>PARENTING</td>\n",
       "      <td>\"Accidentally put grown-up toothpaste on my to...</td>\n",
       "      <td>Caroline Bologna</td>\n",
       "      <td>2022-09-23</td>\n",
       "      <td>Lifestyle &amp; Family</td>\n",
       "    </tr>\n",
       "    <tr>\n",
       "      <th>4</th>\n",
       "      <td>4</td>\n",
       "      <td>https://www.huffpost.com/entry/amy-cooper-lose...</td>\n",
       "      <td>Woman Who Called Cops On Black Bird-Watcher Lo...</td>\n",
       "      <td>U.S. NEWS</td>\n",
       "      <td>Amy Cooper accused investment firm Franklin Te...</td>\n",
       "      <td>Nina Golgowski</td>\n",
       "      <td>2022-09-22</td>\n",
       "      <td>News &amp; Politics</td>\n",
       "    </tr>\n",
       "    <tr>\n",
       "      <th>...</th>\n",
       "      <td>...</td>\n",
       "      <td>...</td>\n",
       "      <td>...</td>\n",
       "      <td>...</td>\n",
       "      <td>...</td>\n",
       "      <td>...</td>\n",
       "      <td>...</td>\n",
       "      <td>...</td>\n",
       "    </tr>\n",
       "    <tr>\n",
       "      <th>209522</th>\n",
       "      <td>209522</td>\n",
       "      <td>https://www.huffingtonpost.com/entry/rim-ceo-t...</td>\n",
       "      <td>RIM CEO Thorsten Heins' 'Significant' Plans Fo...</td>\n",
       "      <td>TECH</td>\n",
       "      <td>Verizon Wireless and AT&amp;T are already promotin...</td>\n",
       "      <td>Reuters, Reuters</td>\n",
       "      <td>2012-01-28</td>\n",
       "      <td>Technology</td>\n",
       "    </tr>\n",
       "    <tr>\n",
       "      <th>209523</th>\n",
       "      <td>209523</td>\n",
       "      <td>https://www.huffingtonpost.com/entry/maria-sha...</td>\n",
       "      <td>Maria Sharapova Stunned By Victoria Azarenka I...</td>\n",
       "      <td>SPORTS</td>\n",
       "      <td>Afterward, Azarenka, more effusive with the pr...</td>\n",
       "      <td>NaN</td>\n",
       "      <td>2012-01-28</td>\n",
       "      <td>Health &amp; Sports</td>\n",
       "    </tr>\n",
       "    <tr>\n",
       "      <th>209524</th>\n",
       "      <td>209524</td>\n",
       "      <td>https://www.huffingtonpost.com/entry/super-bow...</td>\n",
       "      <td>Giants Over Patriots, Jets Over Colts Among  M...</td>\n",
       "      <td>SPORTS</td>\n",
       "      <td>Leading up to Super Bowl XLVI, the most talked...</td>\n",
       "      <td>NaN</td>\n",
       "      <td>2012-01-28</td>\n",
       "      <td>Health &amp; Sports</td>\n",
       "    </tr>\n",
       "    <tr>\n",
       "      <th>209525</th>\n",
       "      <td>209525</td>\n",
       "      <td>https://www.huffingtonpost.com/entry/aldon-smi...</td>\n",
       "      <td>Aldon Smith Arrested: 49ers Linebacker Busted ...</td>\n",
       "      <td>SPORTS</td>\n",
       "      <td>CORRECTION: An earlier version of this story i...</td>\n",
       "      <td>NaN</td>\n",
       "      <td>2012-01-28</td>\n",
       "      <td>Health &amp; Sports</td>\n",
       "    </tr>\n",
       "    <tr>\n",
       "      <th>209526</th>\n",
       "      <td>209526</td>\n",
       "      <td>https://www.huffingtonpost.com/entry/dwight-ho...</td>\n",
       "      <td>Dwight Howard Rips Teammates After Magic Loss ...</td>\n",
       "      <td>SPORTS</td>\n",
       "      <td>The five-time all-star center tore into his te...</td>\n",
       "      <td>NaN</td>\n",
       "      <td>2012-01-28</td>\n",
       "      <td>Health &amp; Sports</td>\n",
       "    </tr>\n",
       "  </tbody>\n",
       "</table>\n",
       "<p>209527 rows × 8 columns</p>\n",
       "</div>"
      ],
      "text/plain": [
       "        Unnamed: 0                                               link  \\\n",
       "0                0  https://www.huffpost.com/entry/covid-boosters-...   \n",
       "1                1  https://www.huffpost.com/entry/american-airlin...   \n",
       "2                2  https://www.huffpost.com/entry/funniest-tweets...   \n",
       "3                3  https://www.huffpost.com/entry/funniest-parent...   \n",
       "4                4  https://www.huffpost.com/entry/amy-cooper-lose...   \n",
       "...            ...                                                ...   \n",
       "209522      209522  https://www.huffingtonpost.com/entry/rim-ceo-t...   \n",
       "209523      209523  https://www.huffingtonpost.com/entry/maria-sha...   \n",
       "209524      209524  https://www.huffingtonpost.com/entry/super-bow...   \n",
       "209525      209525  https://www.huffingtonpost.com/entry/aldon-smi...   \n",
       "209526      209526  https://www.huffingtonpost.com/entry/dwight-ho...   \n",
       "\n",
       "                                                 headline   category  \\\n",
       "0       Over 4 Million Americans Roll Up Sleeves For O...  U.S. NEWS   \n",
       "1       American Airlines Flyer Charged, Banned For Li...  U.S. NEWS   \n",
       "2       23 Of The Funniest Tweets About Cats And Dogs ...     COMEDY   \n",
       "3       The Funniest Tweets From Parents This Week (Se...  PARENTING   \n",
       "4       Woman Who Called Cops On Black Bird-Watcher Lo...  U.S. NEWS   \n",
       "...                                                   ...        ...   \n",
       "209522  RIM CEO Thorsten Heins' 'Significant' Plans Fo...       TECH   \n",
       "209523  Maria Sharapova Stunned By Victoria Azarenka I...     SPORTS   \n",
       "209524  Giants Over Patriots, Jets Over Colts Among  M...     SPORTS   \n",
       "209525  Aldon Smith Arrested: 49ers Linebacker Busted ...     SPORTS   \n",
       "209526  Dwight Howard Rips Teammates After Magic Loss ...     SPORTS   \n",
       "\n",
       "                                        short_description  \\\n",
       "0       Health experts said it is too early to predict...   \n",
       "1       He was subdued by passengers and crew when he ...   \n",
       "2       \"Until you have a dog you don't understand wha...   \n",
       "3       \"Accidentally put grown-up toothpaste on my to...   \n",
       "4       Amy Cooper accused investment firm Franklin Te...   \n",
       "...                                                   ...   \n",
       "209522  Verizon Wireless and AT&T are already promotin...   \n",
       "209523  Afterward, Azarenka, more effusive with the pr...   \n",
       "209524  Leading up to Super Bowl XLVI, the most talked...   \n",
       "209525  CORRECTION: An earlier version of this story i...   \n",
       "209526  The five-time all-star center tore into his te...   \n",
       "\n",
       "                     authors       date    grouped_category  \n",
       "0       Carla K. Johnson, AP 2022-09-23     News & Politics  \n",
       "1             Mary Papenfuss 2022-09-23     News & Politics  \n",
       "2              Elyse Wanshel 2022-09-23       Entertainment  \n",
       "3           Caroline Bologna 2022-09-23  Lifestyle & Family  \n",
       "4             Nina Golgowski 2022-09-22     News & Politics  \n",
       "...                      ...        ...                 ...  \n",
       "209522      Reuters, Reuters 2012-01-28          Technology  \n",
       "209523                   NaN 2012-01-28     Health & Sports  \n",
       "209524                   NaN 2012-01-28     Health & Sports  \n",
       "209525                   NaN 2012-01-28     Health & Sports  \n",
       "209526                   NaN 2012-01-28     Health & Sports  \n",
       "\n",
       "[209527 rows x 8 columns]"
      ]
     },
     "execution_count": 6,
     "metadata": {},
     "output_type": "execute_result"
    }
   ],
   "source": [
    "df2"
   ]
  },
  {
   "cell_type": "code",
   "execution_count": 7,
   "id": "0b840646",
   "metadata": {},
   "outputs": [
    {
     "data": {
      "text/plain": [
       "Unnamed: 0               0\n",
       "link                     0\n",
       "headline                 6\n",
       "category                 0\n",
       "short_description    19712\n",
       "authors              37418\n",
       "date                     0\n",
       "grouped_category         0\n",
       "dtype: int64"
      ]
     },
     "execution_count": 7,
     "metadata": {},
     "output_type": "execute_result"
    }
   ],
   "source": [
    "df2.isna().sum()"
   ]
  },
  {
   "cell_type": "code",
   "execution_count": 8,
   "id": "0ad09dbc",
   "metadata": {},
   "outputs": [],
   "source": [
    "df2.dropna(subset = [\"headline\", \"short_description\", \"authors\"], inplace = True)"
   ]
  },
  {
   "cell_type": "code",
   "execution_count": 9,
   "id": "534b2b61",
   "metadata": {},
   "outputs": [],
   "source": [
    "df2.drop([\"category\", \"link\", \"authors\", \"short_description\", \"Unnamed: 0\"], axis=1, inplace=True)\n"
   ]
  },
  {
   "cell_type": "code",
   "execution_count": 10,
   "id": "048ac519",
   "metadata": {},
   "outputs": [
    {
     "data": {
      "text/html": [
       "<div>\n",
       "<style scoped>\n",
       "    .dataframe tbody tr th:only-of-type {\n",
       "        vertical-align: middle;\n",
       "    }\n",
       "\n",
       "    .dataframe tbody tr th {\n",
       "        vertical-align: top;\n",
       "    }\n",
       "\n",
       "    .dataframe thead th {\n",
       "        text-align: right;\n",
       "    }\n",
       "</style>\n",
       "<table border=\"1\" class=\"dataframe\">\n",
       "  <thead>\n",
       "    <tr style=\"text-align: right;\">\n",
       "      <th></th>\n",
       "      <th>headline</th>\n",
       "      <th>date</th>\n",
       "      <th>grouped_category</th>\n",
       "    </tr>\n",
       "  </thead>\n",
       "  <tbody>\n",
       "    <tr>\n",
       "      <th>0</th>\n",
       "      <td>Over 4 Million Americans Roll Up Sleeves For O...</td>\n",
       "      <td>2022-09-23</td>\n",
       "      <td>News &amp; Politics</td>\n",
       "    </tr>\n",
       "    <tr>\n",
       "      <th>1</th>\n",
       "      <td>American Airlines Flyer Charged, Banned For Li...</td>\n",
       "      <td>2022-09-23</td>\n",
       "      <td>News &amp; Politics</td>\n",
       "    </tr>\n",
       "    <tr>\n",
       "      <th>2</th>\n",
       "      <td>23 Of The Funniest Tweets About Cats And Dogs ...</td>\n",
       "      <td>2022-09-23</td>\n",
       "      <td>Entertainment</td>\n",
       "    </tr>\n",
       "    <tr>\n",
       "      <th>3</th>\n",
       "      <td>The Funniest Tweets From Parents This Week (Se...</td>\n",
       "      <td>2022-09-23</td>\n",
       "      <td>Lifestyle &amp; Family</td>\n",
       "    </tr>\n",
       "    <tr>\n",
       "      <th>4</th>\n",
       "      <td>Woman Who Called Cops On Black Bird-Watcher Lo...</td>\n",
       "      <td>2022-09-22</td>\n",
       "      <td>News &amp; Politics</td>\n",
       "    </tr>\n",
       "  </tbody>\n",
       "</table>\n",
       "</div>"
      ],
      "text/plain": [
       "                                            headline       date  \\\n",
       "0  Over 4 Million Americans Roll Up Sleeves For O... 2022-09-23   \n",
       "1  American Airlines Flyer Charged, Banned For Li... 2022-09-23   \n",
       "2  23 Of The Funniest Tweets About Cats And Dogs ... 2022-09-23   \n",
       "3  The Funniest Tweets From Parents This Week (Se... 2022-09-23   \n",
       "4  Woman Who Called Cops On Black Bird-Watcher Lo... 2022-09-22   \n",
       "\n",
       "     grouped_category  \n",
       "0     News & Politics  \n",
       "1     News & Politics  \n",
       "2       Entertainment  \n",
       "3  Lifestyle & Family  \n",
       "4     News & Politics  "
      ]
     },
     "execution_count": 10,
     "metadata": {},
     "output_type": "execute_result"
    }
   ],
   "source": [
    "df2.head()"
   ]
  },
  {
   "cell_type": "code",
   "execution_count": 11,
   "id": "e32c85c9",
   "metadata": {},
   "outputs": [
    {
     "data": {
      "text/plain": [
       "array(['News & Politics', 'Entertainment', 'Lifestyle & Family', 'Other',\n",
       "       'Technology', 'Health & Sports', 'Business & Science'],\n",
       "      dtype=object)"
      ]
     },
     "execution_count": 11,
     "metadata": {},
     "output_type": "execute_result"
    }
   ],
   "source": [
    "df2[\"grouped_category\"].unique()"
   ]
  },
  {
   "cell_type": "code",
   "execution_count": 12,
   "id": "40be54f2",
   "metadata": {},
   "outputs": [
    {
     "name": "stdout",
     "output_type": "stream",
     "text": [
      "Categories standardized and files saved.\n"
     ]
    }
   ],
   "source": [
    "# Example category mapping\n",
    "category_mapping = {\n",
    "    'News & Politics': 'News & Politics',\n",
    "    'Entertainment': 'Entertainment',\n",
    "    'Lifestyle & Family': 'Lifestyle & Family',\n",
    "    'Other': 'Other',\n",
    "    'Technology': 'Science & Technology',  # Mapped to Science & Technology\n",
    "    'Health & Sports': 'Health & Sports',\n",
    "    'Business & Science': 'Business & Science',\n",
    "    \n",
    "    'Science & Technology': 'Science & Technology',\n",
    "    'Autos & Vehicles': 'Other',\n",
    "    'Education': 'Education',\n",
    "    'Film & Animation': 'Entertainment',\n",
    "    'Howto & Style': 'Lifestyle & Family',\n",
    "    'People & Blogs': 'Lifestyle & Family',\n",
    "    'Music': 'Entertainment',\n",
    "    'Travel & Events': 'Other'\n",
    "}\n",
    "\n",
    "\n",
    "# Apply mapping\n",
    "df2[\"grouped_category\"] = df2[\"grouped_category\"].map(category_mapping)\n",
    "df1[\"category\"] = df1[\"category\"].map(category_mapping)\n",
    "\n",
    "# Save cleaned data\n",
    "df2.to_csv(\"cleaned_news_data.csv\", index=False)\n",
    "df1.to_csv(\"cleaned_youtube_data.csv\", index=False)\n",
    "\n",
    "print(\"Categories standardized and files saved.\")\n"
   ]
  },
  {
   "cell_type": "code",
   "execution_count": 13,
   "id": "bbfa166a",
   "metadata": {},
   "outputs": [
    {
     "data": {
      "text/html": [
       "<div>\n",
       "<style scoped>\n",
       "    .dataframe tbody tr th:only-of-type {\n",
       "        vertical-align: middle;\n",
       "    }\n",
       "\n",
       "    .dataframe tbody tr th {\n",
       "        vertical-align: top;\n",
       "    }\n",
       "\n",
       "    .dataframe thead th {\n",
       "        text-align: right;\n",
       "    }\n",
       "</style>\n",
       "<table border=\"1\" class=\"dataframe\">\n",
       "  <thead>\n",
       "    <tr style=\"text-align: right;\">\n",
       "      <th></th>\n",
       "      <th>headline</th>\n",
       "      <th>date</th>\n",
       "      <th>grouped_category</th>\n",
       "    </tr>\n",
       "  </thead>\n",
       "  <tbody>\n",
       "    <tr>\n",
       "      <th>0</th>\n",
       "      <td>Over 4 Million Americans Roll Up Sleeves For O...</td>\n",
       "      <td>2022-09-23</td>\n",
       "      <td>News &amp; Politics</td>\n",
       "    </tr>\n",
       "    <tr>\n",
       "      <th>1</th>\n",
       "      <td>American Airlines Flyer Charged, Banned For Li...</td>\n",
       "      <td>2022-09-23</td>\n",
       "      <td>News &amp; Politics</td>\n",
       "    </tr>\n",
       "    <tr>\n",
       "      <th>2</th>\n",
       "      <td>23 Of The Funniest Tweets About Cats And Dogs ...</td>\n",
       "      <td>2022-09-23</td>\n",
       "      <td>Entertainment</td>\n",
       "    </tr>\n",
       "    <tr>\n",
       "      <th>3</th>\n",
       "      <td>The Funniest Tweets From Parents This Week (Se...</td>\n",
       "      <td>2022-09-23</td>\n",
       "      <td>Lifestyle &amp; Family</td>\n",
       "    </tr>\n",
       "    <tr>\n",
       "      <th>4</th>\n",
       "      <td>Woman Who Called Cops On Black Bird-Watcher Lo...</td>\n",
       "      <td>2022-09-22</td>\n",
       "      <td>News &amp; Politics</td>\n",
       "    </tr>\n",
       "    <tr>\n",
       "      <th>...</th>\n",
       "      <td>...</td>\n",
       "      <td>...</td>\n",
       "      <td>...</td>\n",
       "    </tr>\n",
       "    <tr>\n",
       "      <th>156854</th>\n",
       "      <td>Good Games -- Is It possible?</td>\n",
       "      <td>2012-01-28</td>\n",
       "      <td>Science &amp; Technology</td>\n",
       "    </tr>\n",
       "    <tr>\n",
       "      <th>156855</th>\n",
       "      <td>Google+ Now Open for Teens With Some Safeguards</td>\n",
       "      <td>2012-01-28</td>\n",
       "      <td>Science &amp; Technology</td>\n",
       "    </tr>\n",
       "    <tr>\n",
       "      <th>156856</th>\n",
       "      <td>Web Wars</td>\n",
       "      <td>2012-01-28</td>\n",
       "      <td>Science &amp; Technology</td>\n",
       "    </tr>\n",
       "    <tr>\n",
       "      <th>156857</th>\n",
       "      <td>Watch The Top 9 YouTube Videos Of The Week</td>\n",
       "      <td>2012-01-28</td>\n",
       "      <td>Science &amp; Technology</td>\n",
       "    </tr>\n",
       "    <tr>\n",
       "      <th>156858</th>\n",
       "      <td>RIM CEO Thorsten Heins' 'Significant' Plans Fo...</td>\n",
       "      <td>2012-01-28</td>\n",
       "      <td>Science &amp; Technology</td>\n",
       "    </tr>\n",
       "  </tbody>\n",
       "</table>\n",
       "<p>156859 rows × 3 columns</p>\n",
       "</div>"
      ],
      "text/plain": [
       "                                                 headline        date  \\\n",
       "0       Over 4 Million Americans Roll Up Sleeves For O...  2022-09-23   \n",
       "1       American Airlines Flyer Charged, Banned For Li...  2022-09-23   \n",
       "2       23 Of The Funniest Tweets About Cats And Dogs ...  2022-09-23   \n",
       "3       The Funniest Tweets From Parents This Week (Se...  2022-09-23   \n",
       "4       Woman Who Called Cops On Black Bird-Watcher Lo...  2022-09-22   \n",
       "...                                                   ...         ...   \n",
       "156854                      Good Games -- Is It possible?  2012-01-28   \n",
       "156855    Google+ Now Open for Teens With Some Safeguards  2012-01-28   \n",
       "156856                                           Web Wars  2012-01-28   \n",
       "156857         Watch The Top 9 YouTube Videos Of The Week  2012-01-28   \n",
       "156858  RIM CEO Thorsten Heins' 'Significant' Plans Fo...  2012-01-28   \n",
       "\n",
       "            grouped_category  \n",
       "0            News & Politics  \n",
       "1            News & Politics  \n",
       "2              Entertainment  \n",
       "3         Lifestyle & Family  \n",
       "4            News & Politics  \n",
       "...                      ...  \n",
       "156854  Science & Technology  \n",
       "156855  Science & Technology  \n",
       "156856  Science & Technology  \n",
       "156857  Science & Technology  \n",
       "156858  Science & Technology  \n",
       "\n",
       "[156859 rows x 3 columns]"
      ]
     },
     "execution_count": 13,
     "metadata": {},
     "output_type": "execute_result"
    }
   ],
   "source": [
    "news = pd.read_csv(\"cleaned_news_data.csv\")\n",
    "news"
   ]
  },
  {
   "cell_type": "code",
   "execution_count": 14,
   "id": "f8b7baf8",
   "metadata": {},
   "outputs": [
    {
     "data": {
      "text/plain": [
       "array(['News & Politics', 'Entertainment', 'Lifestyle & Family', 'Other',\n",
       "       'Science & Technology', 'Health & Sports', 'Business & Science'],\n",
       "      dtype=object)"
      ]
     },
     "execution_count": 14,
     "metadata": {},
     "output_type": "execute_result"
    }
   ],
   "source": [
    "news[\"grouped_category\"].unique()"
   ]
  },
  {
   "cell_type": "code",
   "execution_count": 15,
   "id": "d4fcf5a2",
   "metadata": {},
   "outputs": [
    {
     "data": {
      "text/html": [
       "<div>\n",
       "<style scoped>\n",
       "    .dataframe tbody tr th:only-of-type {\n",
       "        vertical-align: middle;\n",
       "    }\n",
       "\n",
       "    .dataframe tbody tr th {\n",
       "        vertical-align: top;\n",
       "    }\n",
       "\n",
       "    .dataframe thead th {\n",
       "        text-align: right;\n",
       "    }\n",
       "</style>\n",
       "<table border=\"1\" class=\"dataframe\">\n",
       "  <thead>\n",
       "    <tr style=\"text-align: right;\">\n",
       "      <th></th>\n",
       "      <th>title</th>\n",
       "      <th>published_date</th>\n",
       "      <th>views</th>\n",
       "      <th>likes</th>\n",
       "      <th>comments</th>\n",
       "      <th>category</th>\n",
       "    </tr>\n",
       "  </thead>\n",
       "  <tbody>\n",
       "    <tr>\n",
       "      <th>0</th>\n",
       "      <td>Can Fit in Your Closet...</td>\n",
       "      <td>2025-03-13T14:39:55Z</td>\n",
       "      <td>273650</td>\n",
       "      <td>4911</td>\n",
       "      <td>307</td>\n",
       "      <td>Science &amp; Technology</td>\n",
       "    </tr>\n",
       "    <tr>\n",
       "      <th>1</th>\n",
       "      <td>Massage Your Mouth...</td>\n",
       "      <td>2025-03-05T15:20:26Z</td>\n",
       "      <td>917282</td>\n",
       "      <td>5852</td>\n",
       "      <td>45</td>\n",
       "      <td>Science &amp; Technology</td>\n",
       "    </tr>\n",
       "    <tr>\n",
       "      <th>2</th>\n",
       "      <td>The Ultimate Limited Edition Gaming Phone</td>\n",
       "      <td>2025-02-27T15:01:14Z</td>\n",
       "      <td>1001785</td>\n",
       "      <td>23417</td>\n",
       "      <td>755</td>\n",
       "      <td>Science &amp; Technology</td>\n",
       "    </tr>\n",
       "    <tr>\n",
       "      <th>3</th>\n",
       "      <td>The Unbelievably Thin Folding Smartphone...</td>\n",
       "      <td>2025-02-25T21:33:23Z</td>\n",
       "      <td>1194032</td>\n",
       "      <td>24983</td>\n",
       "      <td>819</td>\n",
       "      <td>Science &amp; Technology</td>\n",
       "    </tr>\n",
       "    <tr>\n",
       "      <th>4</th>\n",
       "      <td>Astonishing New Music Gadget...</td>\n",
       "      <td>2025-02-23T16:02:28Z</td>\n",
       "      <td>981959</td>\n",
       "      <td>17929</td>\n",
       "      <td>167</td>\n",
       "      <td>Science &amp; Technology</td>\n",
       "    </tr>\n",
       "    <tr>\n",
       "      <th>...</th>\n",
       "      <td>...</td>\n",
       "      <td>...</td>\n",
       "      <td>...</td>\n",
       "      <td>...</td>\n",
       "      <td>...</td>\n",
       "      <td>...</td>\n",
       "    </tr>\n",
       "    <tr>\n",
       "      <th>1095</th>\n",
       "      <td>EVERY AMD Ultimate Tech Upgrade! 2024 Edition!</td>\n",
       "      <td>2025-01-19T17:52:38Z</td>\n",
       "      <td>254007</td>\n",
       "      <td>8386</td>\n",
       "      <td>588</td>\n",
       "      <td>Science &amp; Technology</td>\n",
       "    </tr>\n",
       "    <tr>\n",
       "      <th>1096</th>\n",
       "      <td>I Hate Nintendo and I’m Buying a Switch 2 IMME...</td>\n",
       "      <td>2025-01-18T08:35:23Z</td>\n",
       "      <td>4514222</td>\n",
       "      <td>120737</td>\n",
       "      <td>7918</td>\n",
       "      <td>Science &amp; Technology</td>\n",
       "    </tr>\n",
       "    <tr>\n",
       "      <th>1097</th>\n",
       "      <td>Color Changing Tech Glasses</td>\n",
       "      <td>2025-01-18T05:20:00Z</td>\n",
       "      <td>740857</td>\n",
       "      <td>29927</td>\n",
       "      <td>681</td>\n",
       "      <td>Science &amp; Technology</td>\n",
       "    </tr>\n",
       "    <tr>\n",
       "      <th>1098</th>\n",
       "      <td>Breaking My Silence - WAN Show January 17, 2025</td>\n",
       "      <td>2025-01-18T04:55:53Z</td>\n",
       "      <td>1065999</td>\n",
       "      <td>30245</td>\n",
       "      <td>4901</td>\n",
       "      <td>Science &amp; Technology</td>\n",
       "    </tr>\n",
       "    <tr>\n",
       "      <th>1099</th>\n",
       "      <td>Playing what you want on Arc - Battlemage Edition</td>\n",
       "      <td>2025-01-16T23:11:40Z</td>\n",
       "      <td>641250</td>\n",
       "      <td>10155</td>\n",
       "      <td>472</td>\n",
       "      <td>Science &amp; Technology</td>\n",
       "    </tr>\n",
       "  </tbody>\n",
       "</table>\n",
       "<p>1100 rows × 6 columns</p>\n",
       "</div>"
      ],
      "text/plain": [
       "                                                  title        published_date  \\\n",
       "0                             Can Fit in Your Closet...  2025-03-13T14:39:55Z   \n",
       "1                                 Massage Your Mouth...  2025-03-05T15:20:26Z   \n",
       "2             The Ultimate Limited Edition Gaming Phone  2025-02-27T15:01:14Z   \n",
       "3           The Unbelievably Thin Folding Smartphone...  2025-02-25T21:33:23Z   \n",
       "4                       Astonishing New Music Gadget...  2025-02-23T16:02:28Z   \n",
       "...                                                 ...                   ...   \n",
       "1095     EVERY AMD Ultimate Tech Upgrade! 2024 Edition!  2025-01-19T17:52:38Z   \n",
       "1096  I Hate Nintendo and I’m Buying a Switch 2 IMME...  2025-01-18T08:35:23Z   \n",
       "1097                        Color Changing Tech Glasses  2025-01-18T05:20:00Z   \n",
       "1098    Breaking My Silence - WAN Show January 17, 2025  2025-01-18T04:55:53Z   \n",
       "1099  Playing what you want on Arc - Battlemage Edition  2025-01-16T23:11:40Z   \n",
       "\n",
       "        views   likes  comments              category  \n",
       "0      273650    4911       307  Science & Technology  \n",
       "1      917282    5852        45  Science & Technology  \n",
       "2     1001785   23417       755  Science & Technology  \n",
       "3     1194032   24983       819  Science & Technology  \n",
       "4      981959   17929       167  Science & Technology  \n",
       "...       ...     ...       ...                   ...  \n",
       "1095   254007    8386       588  Science & Technology  \n",
       "1096  4514222  120737      7918  Science & Technology  \n",
       "1097   740857   29927       681  Science & Technology  \n",
       "1098  1065999   30245      4901  Science & Technology  \n",
       "1099   641250   10155       472  Science & Technology  \n",
       "\n",
       "[1100 rows x 6 columns]"
      ]
     },
     "execution_count": 15,
     "metadata": {},
     "output_type": "execute_result"
    }
   ],
   "source": [
    "youtube = pd.read_csv(\"cleaned_youtube_data.csv\")\n",
    "youtube"
   ]
  },
  {
   "cell_type": "code",
   "execution_count": 16,
   "id": "a9b3e590",
   "metadata": {},
   "outputs": [
    {
     "data": {
      "text/plain": [
       "array(['Science & Technology', 'News & Politics', 'Other', 'Education',\n",
       "       'Entertainment', 'Lifestyle & Family'], dtype=object)"
      ]
     },
     "execution_count": 16,
     "metadata": {},
     "output_type": "execute_result"
    }
   ],
   "source": [
    "youtube[\"category\"].unique()"
   ]
  },
  {
   "cell_type": "code",
   "execution_count": 17,
   "id": "7441bd19",
   "metadata": {},
   "outputs": [
    {
     "name": "stdout",
     "output_type": "stream",
     "text": [
      "Merged dataset saved successfully.\n"
     ]
    }
   ],
   "source": [
    "# Rename columns for consistency\n",
    "youtube.rename(columns={\"title\": \"headline\", \"published_date\": \"date\", \"category\": \"grouped_category\"}, inplace=True)\n",
    "\n",
    "# Select relevant columns (ensuring both datasets have the same structure)\n",
    "youtube = youtube[[\"headline\", \"date\", \"grouped_category\", \"views\", \"likes\", \"comments\"]]\n",
    "news= news[[\"headline\", \"date\", \"grouped_category\"]]\n",
    "\n",
    "# Fill missing 'views', 'likes', 'comments' in news_data with default values (0 or NaN)\n",
    "news[\"views\"] = \"nan\"\n",
    "news[\"likes\"] = \"nan\"\n",
    "news[\"comments\"] = \"nan\"\n",
    "\n",
    "# Merge datasets (concatenation)\n",
    "merged_data = pd.concat([youtube, news], ignore_index=True)\n",
    "\n",
    "# Save merged dataset\n",
    "merged_data.to_csv(\"merged_data.csv\", index=False)\n",
    "\n",
    "print(\"Merged dataset saved successfully.\")\n"
   ]
  },
  {
   "cell_type": "code",
   "execution_count": 18,
   "id": "f1e5d35a",
   "metadata": {},
   "outputs": [
    {
     "data": {
      "text/html": [
       "<div>\n",
       "<style scoped>\n",
       "    .dataframe tbody tr th:only-of-type {\n",
       "        vertical-align: middle;\n",
       "    }\n",
       "\n",
       "    .dataframe tbody tr th {\n",
       "        vertical-align: top;\n",
       "    }\n",
       "\n",
       "    .dataframe thead th {\n",
       "        text-align: right;\n",
       "    }\n",
       "</style>\n",
       "<table border=\"1\" class=\"dataframe\">\n",
       "  <thead>\n",
       "    <tr style=\"text-align: right;\">\n",
       "      <th></th>\n",
       "      <th>headline</th>\n",
       "      <th>date</th>\n",
       "      <th>grouped_category</th>\n",
       "      <th>views</th>\n",
       "      <th>likes</th>\n",
       "      <th>comments</th>\n",
       "    </tr>\n",
       "  </thead>\n",
       "  <tbody>\n",
       "    <tr>\n",
       "      <th>0</th>\n",
       "      <td>Can Fit in Your Closet...</td>\n",
       "      <td>2025-03-13T14:39:55Z</td>\n",
       "      <td>Science &amp; Technology</td>\n",
       "      <td>273650.0</td>\n",
       "      <td>4911.0</td>\n",
       "      <td>307.0</td>\n",
       "    </tr>\n",
       "    <tr>\n",
       "      <th>1</th>\n",
       "      <td>Massage Your Mouth...</td>\n",
       "      <td>2025-03-05T15:20:26Z</td>\n",
       "      <td>Science &amp; Technology</td>\n",
       "      <td>917282.0</td>\n",
       "      <td>5852.0</td>\n",
       "      <td>45.0</td>\n",
       "    </tr>\n",
       "    <tr>\n",
       "      <th>2</th>\n",
       "      <td>The Ultimate Limited Edition Gaming Phone</td>\n",
       "      <td>2025-02-27T15:01:14Z</td>\n",
       "      <td>Science &amp; Technology</td>\n",
       "      <td>1001785.0</td>\n",
       "      <td>23417.0</td>\n",
       "      <td>755.0</td>\n",
       "    </tr>\n",
       "    <tr>\n",
       "      <th>3</th>\n",
       "      <td>The Unbelievably Thin Folding Smartphone...</td>\n",
       "      <td>2025-02-25T21:33:23Z</td>\n",
       "      <td>Science &amp; Technology</td>\n",
       "      <td>1194032.0</td>\n",
       "      <td>24983.0</td>\n",
       "      <td>819.0</td>\n",
       "    </tr>\n",
       "    <tr>\n",
       "      <th>4</th>\n",
       "      <td>Astonishing New Music Gadget...</td>\n",
       "      <td>2025-02-23T16:02:28Z</td>\n",
       "      <td>Science &amp; Technology</td>\n",
       "      <td>981959.0</td>\n",
       "      <td>17929.0</td>\n",
       "      <td>167.0</td>\n",
       "    </tr>\n",
       "    <tr>\n",
       "      <th>...</th>\n",
       "      <td>...</td>\n",
       "      <td>...</td>\n",
       "      <td>...</td>\n",
       "      <td>...</td>\n",
       "      <td>...</td>\n",
       "      <td>...</td>\n",
       "    </tr>\n",
       "    <tr>\n",
       "      <th>157954</th>\n",
       "      <td>Good Games -- Is It possible?</td>\n",
       "      <td>2012-01-28</td>\n",
       "      <td>Science &amp; Technology</td>\n",
       "      <td>NaN</td>\n",
       "      <td>NaN</td>\n",
       "      <td>NaN</td>\n",
       "    </tr>\n",
       "    <tr>\n",
       "      <th>157955</th>\n",
       "      <td>Google+ Now Open for Teens With Some Safeguards</td>\n",
       "      <td>2012-01-28</td>\n",
       "      <td>Science &amp; Technology</td>\n",
       "      <td>NaN</td>\n",
       "      <td>NaN</td>\n",
       "      <td>NaN</td>\n",
       "    </tr>\n",
       "    <tr>\n",
       "      <th>157956</th>\n",
       "      <td>Web Wars</td>\n",
       "      <td>2012-01-28</td>\n",
       "      <td>Science &amp; Technology</td>\n",
       "      <td>NaN</td>\n",
       "      <td>NaN</td>\n",
       "      <td>NaN</td>\n",
       "    </tr>\n",
       "    <tr>\n",
       "      <th>157957</th>\n",
       "      <td>Watch The Top 9 YouTube Videos Of The Week</td>\n",
       "      <td>2012-01-28</td>\n",
       "      <td>Science &amp; Technology</td>\n",
       "      <td>NaN</td>\n",
       "      <td>NaN</td>\n",
       "      <td>NaN</td>\n",
       "    </tr>\n",
       "    <tr>\n",
       "      <th>157958</th>\n",
       "      <td>RIM CEO Thorsten Heins' 'Significant' Plans Fo...</td>\n",
       "      <td>2012-01-28</td>\n",
       "      <td>Science &amp; Technology</td>\n",
       "      <td>NaN</td>\n",
       "      <td>NaN</td>\n",
       "      <td>NaN</td>\n",
       "    </tr>\n",
       "  </tbody>\n",
       "</table>\n",
       "<p>157959 rows × 6 columns</p>\n",
       "</div>"
      ],
      "text/plain": [
       "                                                 headline  \\\n",
       "0                               Can Fit in Your Closet...   \n",
       "1                                   Massage Your Mouth...   \n",
       "2               The Ultimate Limited Edition Gaming Phone   \n",
       "3             The Unbelievably Thin Folding Smartphone...   \n",
       "4                         Astonishing New Music Gadget...   \n",
       "...                                                   ...   \n",
       "157954                      Good Games -- Is It possible?   \n",
       "157955    Google+ Now Open for Teens With Some Safeguards   \n",
       "157956                                           Web Wars   \n",
       "157957         Watch The Top 9 YouTube Videos Of The Week   \n",
       "157958  RIM CEO Thorsten Heins' 'Significant' Plans Fo...   \n",
       "\n",
       "                        date      grouped_category      views    likes  \\\n",
       "0       2025-03-13T14:39:55Z  Science & Technology   273650.0   4911.0   \n",
       "1       2025-03-05T15:20:26Z  Science & Technology   917282.0   5852.0   \n",
       "2       2025-02-27T15:01:14Z  Science & Technology  1001785.0  23417.0   \n",
       "3       2025-02-25T21:33:23Z  Science & Technology  1194032.0  24983.0   \n",
       "4       2025-02-23T16:02:28Z  Science & Technology   981959.0  17929.0   \n",
       "...                      ...                   ...        ...      ...   \n",
       "157954            2012-01-28  Science & Technology        NaN      NaN   \n",
       "157955            2012-01-28  Science & Technology        NaN      NaN   \n",
       "157956            2012-01-28  Science & Technology        NaN      NaN   \n",
       "157957            2012-01-28  Science & Technology        NaN      NaN   \n",
       "157958            2012-01-28  Science & Technology        NaN      NaN   \n",
       "\n",
       "        comments  \n",
       "0          307.0  \n",
       "1           45.0  \n",
       "2          755.0  \n",
       "3          819.0  \n",
       "4          167.0  \n",
       "...          ...  \n",
       "157954       NaN  \n",
       "157955       NaN  \n",
       "157956       NaN  \n",
       "157957       NaN  \n",
       "157958       NaN  \n",
       "\n",
       "[157959 rows x 6 columns]"
      ]
     },
     "execution_count": 18,
     "metadata": {},
     "output_type": "execute_result"
    }
   ],
   "source": [
    "df = pd.read_csv(\"merged_data.csv\")\n",
    "df"
   ]
  },
  {
   "cell_type": "code",
   "execution_count": 19,
   "id": "f62e8a77",
   "metadata": {},
   "outputs": [],
   "source": [
    "#df[\"date\"] = df[\"date\"].astype(str)\n",
    "\n",
    "df[\"date\"] = pd.to_datetime(df[\"date\"], errors=\"coerce\", utc=True).dt.date\n",
    "\n",
    "#df[\"date\"] = df[\"date\"].dt.date\n"
   ]
  },
  {
   "cell_type": "code",
   "execution_count": 20,
   "id": "10b6f414",
   "metadata": {},
   "outputs": [
    {
     "data": {
      "text/html": [
       "<div>\n",
       "<style scoped>\n",
       "    .dataframe tbody tr th:only-of-type {\n",
       "        vertical-align: middle;\n",
       "    }\n",
       "\n",
       "    .dataframe tbody tr th {\n",
       "        vertical-align: top;\n",
       "    }\n",
       "\n",
       "    .dataframe thead th {\n",
       "        text-align: right;\n",
       "    }\n",
       "</style>\n",
       "<table border=\"1\" class=\"dataframe\">\n",
       "  <thead>\n",
       "    <tr style=\"text-align: right;\">\n",
       "      <th></th>\n",
       "      <th>headline</th>\n",
       "      <th>date</th>\n",
       "      <th>grouped_category</th>\n",
       "      <th>views</th>\n",
       "      <th>likes</th>\n",
       "      <th>comments</th>\n",
       "    </tr>\n",
       "  </thead>\n",
       "  <tbody>\n",
       "    <tr>\n",
       "      <th>0</th>\n",
       "      <td>Can Fit in Your Closet...</td>\n",
       "      <td>2025-03-13</td>\n",
       "      <td>Science &amp; Technology</td>\n",
       "      <td>273650.0</td>\n",
       "      <td>4911.0</td>\n",
       "      <td>307.0</td>\n",
       "    </tr>\n",
       "    <tr>\n",
       "      <th>1</th>\n",
       "      <td>Massage Your Mouth...</td>\n",
       "      <td>2025-03-05</td>\n",
       "      <td>Science &amp; Technology</td>\n",
       "      <td>917282.0</td>\n",
       "      <td>5852.0</td>\n",
       "      <td>45.0</td>\n",
       "    </tr>\n",
       "    <tr>\n",
       "      <th>2</th>\n",
       "      <td>The Ultimate Limited Edition Gaming Phone</td>\n",
       "      <td>2025-02-27</td>\n",
       "      <td>Science &amp; Technology</td>\n",
       "      <td>1001785.0</td>\n",
       "      <td>23417.0</td>\n",
       "      <td>755.0</td>\n",
       "    </tr>\n",
       "    <tr>\n",
       "      <th>3</th>\n",
       "      <td>The Unbelievably Thin Folding Smartphone...</td>\n",
       "      <td>2025-02-25</td>\n",
       "      <td>Science &amp; Technology</td>\n",
       "      <td>1194032.0</td>\n",
       "      <td>24983.0</td>\n",
       "      <td>819.0</td>\n",
       "    </tr>\n",
       "    <tr>\n",
       "      <th>4</th>\n",
       "      <td>Astonishing New Music Gadget...</td>\n",
       "      <td>2025-02-23</td>\n",
       "      <td>Science &amp; Technology</td>\n",
       "      <td>981959.0</td>\n",
       "      <td>17929.0</td>\n",
       "      <td>167.0</td>\n",
       "    </tr>\n",
       "  </tbody>\n",
       "</table>\n",
       "</div>"
      ],
      "text/plain": [
       "                                      headline        date  \\\n",
       "0                    Can Fit in Your Closet...  2025-03-13   \n",
       "1                        Massage Your Mouth...  2025-03-05   \n",
       "2    The Ultimate Limited Edition Gaming Phone  2025-02-27   \n",
       "3  The Unbelievably Thin Folding Smartphone...  2025-02-25   \n",
       "4              Astonishing New Music Gadget...  2025-02-23   \n",
       "\n",
       "       grouped_category      views    likes  comments  \n",
       "0  Science & Technology   273650.0   4911.0     307.0  \n",
       "1  Science & Technology   917282.0   5852.0      45.0  \n",
       "2  Science & Technology  1001785.0  23417.0     755.0  \n",
       "3  Science & Technology  1194032.0  24983.0     819.0  \n",
       "4  Science & Technology   981959.0  17929.0     167.0  "
      ]
     },
     "execution_count": 20,
     "metadata": {},
     "output_type": "execute_result"
    }
   ],
   "source": [
    "df.head()"
   ]
  },
  {
   "cell_type": "code",
   "execution_count": 21,
   "id": "3e24abae",
   "metadata": {},
   "outputs": [
    {
     "data": {
      "text/plain": [
       "headline                 0\n",
       "date                156859\n",
       "grouped_category         0\n",
       "views               156859\n",
       "likes               156859\n",
       "comments            156859\n",
       "dtype: int64"
      ]
     },
     "execution_count": 21,
     "metadata": {},
     "output_type": "execute_result"
    }
   ],
   "source": [
    "df.isna().sum()"
   ]
  },
  {
   "cell_type": "code",
   "execution_count": 22,
   "id": "08cbea0f",
   "metadata": {},
   "outputs": [
    {
     "name": "stderr",
     "output_type": "stream",
     "text": [
      "C:\\Users\\ricky\\AppData\\Roaming\\Python\\Python312\\site-packages\\numpy\\lib\\_nanfunctions_impl.py:1215: RuntimeWarning: Mean of empty slice\n",
      "  return np.nanmean(a, axis, out=out, keepdims=keepdims)\n",
      "C:\\Users\\ricky\\AppData\\Roaming\\Python\\Python312\\site-packages\\numpy\\lib\\_nanfunctions_impl.py:1215: RuntimeWarning: Mean of empty slice\n",
      "  return np.nanmean(a, axis, out=out, keepdims=keepdims)\n",
      "C:\\Users\\ricky\\AppData\\Roaming\\Python\\Python312\\site-packages\\numpy\\lib\\_nanfunctions_impl.py:1215: RuntimeWarning: Mean of empty slice\n",
      "  return np.nanmean(a, axis, out=out, keepdims=keepdims)\n",
      "C:\\Users\\ricky\\AppData\\Roaming\\Python\\Python312\\site-packages\\numpy\\lib\\_nanfunctions_impl.py:1215: RuntimeWarning: Mean of empty slice\n",
      "  return np.nanmean(a, axis, out=out, keepdims=keepdims)\n",
      "C:\\Users\\ricky\\AppData\\Roaming\\Python\\Python312\\site-packages\\numpy\\lib\\_nanfunctions_impl.py:1215: RuntimeWarning: Mean of empty slice\n",
      "  return np.nanmean(a, axis, out=out, keepdims=keepdims)\n",
      "C:\\Users\\ricky\\AppData\\Roaming\\Python\\Python312\\site-packages\\numpy\\lib\\_nanfunctions_impl.py:1215: RuntimeWarning: Mean of empty slice\n",
      "  return np.nanmean(a, axis, out=out, keepdims=keepdims)\n"
     ]
    }
   ],
   "source": [
    "df[\"views\"] = df.groupby(\"grouped_category\")[\"views\"].transform(lambda x: x.fillna(x.median()))\n",
    "df[\"likes\"] = df.groupby(\"grouped_category\")[\"likes\"].transform(lambda x: x.fillna(x.median()))\n",
    "df[\"comments\"] = df.groupby(\"grouped_category\")[\"comments\"].transform(lambda x: x.fillna(x.median()))\n"
   ]
  },
  {
   "cell_type": "code",
   "execution_count": 23,
   "id": "2bbecc9e",
   "metadata": {},
   "outputs": [
    {
     "data": {
      "text/plain": [
       "headline                 0\n",
       "date                156859\n",
       "grouped_category         0\n",
       "views                34269\n",
       "likes                34269\n",
       "comments             34269\n",
       "dtype: int64"
      ]
     },
     "execution_count": 23,
     "metadata": {},
     "output_type": "execute_result"
    }
   ],
   "source": [
    "df.isna().sum()"
   ]
  },
  {
   "cell_type": "code",
   "execution_count": 24,
   "id": "53011809",
   "metadata": {},
   "outputs": [],
   "source": [
    "df[\"views\"] = df[\"views\"].transform(lambda x: x.fillna(x.median()))\n",
    "df[\"likes\"] = df[\"likes\"].transform(lambda x: x.fillna(x.median()))\n",
    "df[\"comments\"] = df[\"comments\"].transform(lambda x: x.fillna(x.median()))"
   ]
  },
  {
   "cell_type": "code",
   "execution_count": 25,
   "id": "21f061f5",
   "metadata": {},
   "outputs": [
    {
     "data": {
      "text/plain": [
       "headline                 0\n",
       "date                156859\n",
       "grouped_category         0\n",
       "views                    0\n",
       "likes                    0\n",
       "comments                 0\n",
       "dtype: int64"
      ]
     },
     "execution_count": 25,
     "metadata": {},
     "output_type": "execute_result"
    }
   ],
   "source": [
    "df.isna().sum()"
   ]
  },
  {
   "cell_type": "code",
   "execution_count": 26,
   "id": "b9dc1b71",
   "metadata": {},
   "outputs": [
    {
     "data": {
      "text/plain": [
       "np.int64(852)"
      ]
     },
     "execution_count": 26,
     "metadata": {},
     "output_type": "execute_result"
    }
   ],
   "source": [
    "df.duplicated().sum()"
   ]
  },
  {
   "cell_type": "code",
   "execution_count": 27,
   "id": "ed7a94da",
   "metadata": {},
   "outputs": [],
   "source": [
    "df[\"views\"] = df[\"views\"].fillna(0).astype(int)\n",
    "df[\"likes\"] = df[\"likes\"].fillna(0).astype(int)\n",
    "df[\"comments\"] = df[\"comments\"].fillna(0).astype(int)\n"
   ]
  },
  {
   "cell_type": "code",
   "execution_count": 28,
   "id": "0a433ab4",
   "metadata": {},
   "outputs": [
    {
     "data": {
      "text/html": [
       "<div>\n",
       "<style scoped>\n",
       "    .dataframe tbody tr th:only-of-type {\n",
       "        vertical-align: middle;\n",
       "    }\n",
       "\n",
       "    .dataframe tbody tr th {\n",
       "        vertical-align: top;\n",
       "    }\n",
       "\n",
       "    .dataframe thead th {\n",
       "        text-align: right;\n",
       "    }\n",
       "</style>\n",
       "<table border=\"1\" class=\"dataframe\">\n",
       "  <thead>\n",
       "    <tr style=\"text-align: right;\">\n",
       "      <th></th>\n",
       "      <th>headline</th>\n",
       "      <th>date</th>\n",
       "      <th>grouped_category</th>\n",
       "      <th>views</th>\n",
       "      <th>likes</th>\n",
       "      <th>comments</th>\n",
       "    </tr>\n",
       "  </thead>\n",
       "  <tbody>\n",
       "    <tr>\n",
       "      <th>0</th>\n",
       "      <td>Can Fit in Your Closet...</td>\n",
       "      <td>2025-03-13</td>\n",
       "      <td>Science &amp; Technology</td>\n",
       "      <td>273650</td>\n",
       "      <td>4911</td>\n",
       "      <td>307</td>\n",
       "    </tr>\n",
       "    <tr>\n",
       "      <th>1</th>\n",
       "      <td>Massage Your Mouth...</td>\n",
       "      <td>2025-03-05</td>\n",
       "      <td>Science &amp; Technology</td>\n",
       "      <td>917282</td>\n",
       "      <td>5852</td>\n",
       "      <td>45</td>\n",
       "    </tr>\n",
       "    <tr>\n",
       "      <th>2</th>\n",
       "      <td>The Ultimate Limited Edition Gaming Phone</td>\n",
       "      <td>2025-02-27</td>\n",
       "      <td>Science &amp; Technology</td>\n",
       "      <td>1001785</td>\n",
       "      <td>23417</td>\n",
       "      <td>755</td>\n",
       "    </tr>\n",
       "    <tr>\n",
       "      <th>3</th>\n",
       "      <td>The Unbelievably Thin Folding Smartphone...</td>\n",
       "      <td>2025-02-25</td>\n",
       "      <td>Science &amp; Technology</td>\n",
       "      <td>1194032</td>\n",
       "      <td>24983</td>\n",
       "      <td>819</td>\n",
       "    </tr>\n",
       "    <tr>\n",
       "      <th>4</th>\n",
       "      <td>Astonishing New Music Gadget...</td>\n",
       "      <td>2025-02-23</td>\n",
       "      <td>Science &amp; Technology</td>\n",
       "      <td>981959</td>\n",
       "      <td>17929</td>\n",
       "      <td>167</td>\n",
       "    </tr>\n",
       "  </tbody>\n",
       "</table>\n",
       "</div>"
      ],
      "text/plain": [
       "                                      headline        date  \\\n",
       "0                    Can Fit in Your Closet...  2025-03-13   \n",
       "1                        Massage Your Mouth...  2025-03-05   \n",
       "2    The Ultimate Limited Edition Gaming Phone  2025-02-27   \n",
       "3  The Unbelievably Thin Folding Smartphone...  2025-02-25   \n",
       "4              Astonishing New Music Gadget...  2025-02-23   \n",
       "\n",
       "       grouped_category    views  likes  comments  \n",
       "0  Science & Technology   273650   4911       307  \n",
       "1  Science & Technology   917282   5852        45  \n",
       "2  Science & Technology  1001785  23417       755  \n",
       "3  Science & Technology  1194032  24983       819  \n",
       "4  Science & Technology   981959  17929       167  "
      ]
     },
     "execution_count": 28,
     "metadata": {},
     "output_type": "execute_result"
    }
   ],
   "source": [
    "df.head()"
   ]
  },
  {
   "cell_type": "code",
   "execution_count": 29,
   "id": "89fd4b76",
   "metadata": {},
   "outputs": [
    {
     "data": {
      "text/plain": [
       "(157959, 6)"
      ]
     },
     "execution_count": 29,
     "metadata": {},
     "output_type": "execute_result"
    }
   ],
   "source": [
    "df.shape"
   ]
  },
  {
   "cell_type": "code",
   "execution_count": 30,
   "id": "cd54ae50",
   "metadata": {},
   "outputs": [
    {
     "data": {
      "text/plain": [
       "np.int64(852)"
      ]
     },
     "execution_count": 30,
     "metadata": {},
     "output_type": "execute_result"
    }
   ],
   "source": [
    "df.duplicated().sum()"
   ]
  },
  {
   "cell_type": "code",
   "execution_count": 31,
   "id": "6f78edeb",
   "metadata": {},
   "outputs": [],
   "source": [
    "df.drop_duplicates(inplace = True)"
   ]
  },
  {
   "cell_type": "code",
   "execution_count": 32,
   "id": "59f14ec1",
   "metadata": {},
   "outputs": [],
   "source": [
    "import matplotlib.pyplot as plt\n",
    "import seaborn as sns"
   ]
  },
  {
   "cell_type": "code",
   "execution_count": 33,
   "id": "ced6a197",
   "metadata": {},
   "outputs": [
    {
     "data": {
      "text/plain": [
       "grouped_category\n",
       "Other                   53776\n",
       "News & Politics         33619\n",
       "Health & Sports         26107\n",
       "Entertainment           18889\n",
       "Lifestyle & Family      14549\n",
       "Business & Science       8112\n",
       "Science & Technology     1902\n",
       "Education                 153\n",
       "Name: count, dtype: int64"
      ]
     },
     "execution_count": 33,
     "metadata": {},
     "output_type": "execute_result"
    }
   ],
   "source": [
    "df[\"grouped_category\"].value_counts()"
   ]
  },
  {
   "cell_type": "code",
   "execution_count": 34,
   "id": "d581f778",
   "metadata": {},
   "outputs": [],
   "source": [
    "df = df[df[\"grouped_category\"] != \"Other\"]"
   ]
  },
  {
   "cell_type": "code",
   "execution_count": 35,
   "id": "c01fd983",
   "metadata": {},
   "outputs": [
    {
     "data": {
      "text/plain": [
       "(103331, 6)"
      ]
     },
     "execution_count": 35,
     "metadata": {},
     "output_type": "execute_result"
    }
   ],
   "source": [
    "df.shape"
   ]
  },
  {
   "cell_type": "code",
   "execution_count": 36,
   "id": "1aa8ec6a",
   "metadata": {},
   "outputs": [
    {
     "data": {
      "text/plain": [
       "array(['Science & Technology', 'News & Politics', 'Education',\n",
       "       'Entertainment', 'Lifestyle & Family', 'Health & Sports',\n",
       "       'Business & Science'], dtype=object)"
      ]
     },
     "execution_count": 36,
     "metadata": {},
     "output_type": "execute_result"
    }
   ],
   "source": [
    "df[\"grouped_category\"].unique()"
   ]
  },
  {
   "cell_type": "code",
   "execution_count": 37,
   "id": "5bc5add5",
   "metadata": {},
   "outputs": [
    {
     "data": {
      "text/plain": [
       "np.int64(0)"
      ]
     },
     "execution_count": 37,
     "metadata": {},
     "output_type": "execute_result"
    }
   ],
   "source": [
    "df.duplicated().sum()"
   ]
  },
  {
   "cell_type": "code",
   "execution_count": 38,
   "id": "071ba6cd",
   "metadata": {},
   "outputs": [],
   "source": [
    "df.to_csv(\"merged_cleaned_data.csv\", index = False)"
   ]
  },
  {
   "cell_type": "code",
   "execution_count": 39,
   "id": "5aff3587",
   "metadata": {},
   "outputs": [
    {
     "data": {
      "text/plain": [
       "<Axes: xlabel='count', ylabel='grouped_category'>"
      ]
     },
     "execution_count": 39,
     "metadata": {},
     "output_type": "execute_result"
    },
    {
     "data": {
      "image/png": "[encoded data removed]",
      "text/plain": [
       "<Figure size 640x480 with 1 Axes>"
      ]
     },
     "metadata": {},
     "output_type": "display_data"
    }
   ],
   "source": [
    "sns.countplot(data = df, y = \"grouped_category\")"
   ]
  },
  {
   "cell_type": "code",
   "execution_count": 40,
   "id": "31d1a0b9",
   "metadata": {},
   "outputs": [
    {
     "data": {
      "image/png": "[encoded data removed]",
      "text/plain": [
       "<Figure size 1200x600 with 1 Axes>"
      ]
     },
     "metadata": {},
     "output_type": "display_data"
    }
   ],
   "source": [
    "import matplotlib.ticker as ticker\n",
    "\n",
    "plt.figure(figsize=(12, 6))\n",
    "ax = sns.barplot(data=df, y=\"grouped_category\", x=\"likes\")\n",
    "\n",
    "# Force normal number formatting (no log scale)\n",
    "ax.xaxis.set_major_formatter(ticker.StrMethodFormatter(\"{x:,.0f}\"))\n",
    "\n",
    "plt.xlabel(\"Total Likes\")\n",
    "plt.ylabel(\"Category\")\n",
    "plt.title(\"Total Likes by Category\")\n",
    "plt.show()"
   ]
  },
  {
   "cell_type": "code",
   "execution_count": 41,
   "id": "30c9f785",
   "metadata": {},
   "outputs": [
    {
     "data": {
      "image/png": "[encoded data removed]",
      "text/plain": [
       "<Figure size 1200x600 with 1 Axes>"
      ]
     },
     "metadata": {},
     "output_type": "display_data"
    }
   ],
   "source": [
    "plt.figure(figsize=(12, 6))\n",
    "ax = sns.barplot(data=df, y=\"grouped_category\", x=\"views\")\n",
    "\n",
    "# Force normal number formatting (no log scale)\n",
    "ax.xaxis.set_major_formatter(ticker.StrMethodFormatter(\"{x:,.0f}\"))\n",
    "\n",
    "plt.xlabel(\"Total Views\")\n",
    "plt.ylabel(\"Category\")\n",
    "plt.title(\"Total Views by Category\")\n",
    "plt.show()"
   ]
  },
  {
   "cell_type": "code",
   "execution_count": 42,
   "id": "f643a1b1",
   "metadata": {},
   "outputs": [
    {
     "data": {
      "image/png": "[encoded data removed]",
      "text/plain": [
       "<Figure size 1200x600 with 1 Axes>"
      ]
     },
     "metadata": {},
     "output_type": "display_data"
    }
   ],
   "source": [
    "plt.figure(figsize=(12, 6))\n",
    "ax = sns.barplot(data=df, y=\"grouped_category\", x=\"comments\")\n",
    "\n",
    "# Force normal number formatting (no log scale)\n",
    "ax.xaxis.set_major_formatter(ticker.StrMethodFormatter(\"{x:,.0f}\"))\n",
    "\n",
    "plt.xlabel(\"Total Comments\")\n",
    "plt.ylabel(\"Category\")\n",
    "plt.title(\"Total Comments by Category\")\n",
    "plt.show()"
   ]
  },
  {
   "cell_type": "code",
   "execution_count": 43,
   "id": "4f7a136b",
   "metadata": {},
   "outputs": [
    {
     "name": "stderr",
     "output_type": "stream",
     "text": [
      "C:\\Users\\ricky\\AppData\\Local\\Temp\\ipykernel_18420\\104123561.py:1: SettingWithCopyWarning: \n",
      "A value is trying to be set on a copy of a slice from a DataFrame.\n",
      "Try using .loc[row_indexer,col_indexer] = value instead\n",
      "\n",
      "See the caveats in the documentation: https://pandas.pydata.org/pandas-docs/stable/user_guide/indexing.html#returning-a-view-versus-a-copy\n",
      "  df['engagement_rate'] = (df['likes'] + df['comments']) / df['views']\n"
     ]
    }
   ],
   "source": [
    "df['engagement_rate'] = (df['likes'] + df['comments']) / df['views']"
   ]
  },
  {
   "cell_type": "code",
   "execution_count": 44,
   "id": "259f0797",
   "metadata": {},
   "outputs": [
    {
     "name": "stderr",
     "output_type": "stream",
     "text": [
      "C:\\Users\\ricky\\AppData\\Local\\Temp\\ipykernel_18420\\3186569599.py:1: SettingWithCopyWarning: \n",
      "A value is trying to be set on a copy of a slice from a DataFrame.\n",
      "Try using .loc[row_indexer,col_indexer] = value instead\n",
      "\n",
      "See the caveats in the documentation: https://pandas.pydata.org/pandas-docs/stable/user_guide/indexing.html#returning-a-view-versus-a-copy\n",
      "  df['date'] = pd.to_datetime(df['date'], errors='coerce')\n",
      "C:\\Users\\ricky\\AppData\\Local\\Temp\\ipykernel_18420\\3186569599.py:2: SettingWithCopyWarning: \n",
      "A value is trying to be set on a copy of a slice from a DataFrame.\n",
      "Try using .loc[row_indexer,col_indexer] = value instead\n",
      "\n",
      "See the caveats in the documentation: https://pandas.pydata.org/pandas-docs/stable/user_guide/indexing.html#returning-a-view-versus-a-copy\n",
      "  df['day_of_week'] = df['date'].dt.day_name()\n"
     ]
    }
   ],
   "source": [
    "df['date'] = pd.to_datetime(df['date'], errors='coerce')\n",
    "df['day_of_week'] = df['date'].dt.day_name()"
   ]
  },
  {
   "cell_type": "code",
   "execution_count": 45,
   "id": "f7b2554d",
   "metadata": {},
   "outputs": [
    {
     "name": "stderr",
     "output_type": "stream",
     "text": [
      "C:\\Users\\ricky\\AppData\\Local\\Temp\\ipykernel_18420\\2590015845.py:2: SettingWithCopyWarning: \n",
      "A value is trying to be set on a copy of a slice from a DataFrame.\n",
      "Try using .loc[row_indexer,col_indexer] = value instead\n",
      "\n",
      "See the caveats in the documentation: https://pandas.pydata.org/pandas-docs/stable/user_guide/indexing.html#returning-a-view-versus-a-copy\n",
      "  df[\"year\"] = df[\"date\"].dt.year\n",
      "C:\\Users\\ricky\\AppData\\Local\\Temp\\ipykernel_18420\\2590015845.py:3: SettingWithCopyWarning: \n",
      "A value is trying to be set on a copy of a slice from a DataFrame.\n",
      "Try using .loc[row_indexer,col_indexer] = value instead\n",
      "\n",
      "See the caveats in the documentation: https://pandas.pydata.org/pandas-docs/stable/user_guide/indexing.html#returning-a-view-versus-a-copy\n",
      "  df[\"month\"] = df[\"date\"].dt.month\n",
      "C:\\Users\\ricky\\AppData\\Local\\Temp\\ipykernel_18420\\2590015845.py:4: SettingWithCopyWarning: \n",
      "A value is trying to be set on a copy of a slice from a DataFrame.\n",
      "Try using .loc[row_indexer,col_indexer] = value instead\n",
      "\n",
      "See the caveats in the documentation: https://pandas.pydata.org/pandas-docs/stable/user_guide/indexing.html#returning-a-view-versus-a-copy\n",
      "  df[\"day\"] = df[\"date\"].dt.day\n"
     ]
    }
   ],
   "source": [
    "# Extract year, month, day\n",
    "df[\"year\"] = df[\"date\"].dt.year\n",
    "df[\"month\"] = df[\"date\"].dt.month\n",
    "df[\"day\"] = df[\"date\"].dt.day"
   ]
  },
  {
   "cell_type": "code",
   "execution_count": 46,
   "id": "1910ca21",
   "metadata": {},
   "outputs": [
    {
     "data": {
      "text/html": [
       "<div>\n",
       "<style scoped>\n",
       "    .dataframe tbody tr th:only-of-type {\n",
       "        vertical-align: middle;\n",
       "    }\n",
       "\n",
       "    .dataframe tbody tr th {\n",
       "        vertical-align: top;\n",
       "    }\n",
       "\n",
       "    .dataframe thead th {\n",
       "        text-align: right;\n",
       "    }\n",
       "</style>\n",
       "<table border=\"1\" class=\"dataframe\">\n",
       "  <thead>\n",
       "    <tr style=\"text-align: right;\">\n",
       "      <th></th>\n",
       "      <th>headline</th>\n",
       "      <th>date</th>\n",
       "      <th>grouped_category</th>\n",
       "      <th>views</th>\n",
       "      <th>likes</th>\n",
       "      <th>comments</th>\n",
       "      <th>engagement_rate</th>\n",
       "      <th>day_of_week</th>\n",
       "      <th>year</th>\n",
       "      <th>month</th>\n",
       "      <th>day</th>\n",
       "    </tr>\n",
       "  </thead>\n",
       "  <tbody>\n",
       "    <tr>\n",
       "      <th>0</th>\n",
       "      <td>Can Fit in Your Closet...</td>\n",
       "      <td>2025-03-13</td>\n",
       "      <td>Science &amp; Technology</td>\n",
       "      <td>273650</td>\n",
       "      <td>4911</td>\n",
       "      <td>307</td>\n",
       "      <td>0.019068</td>\n",
       "      <td>Thursday</td>\n",
       "      <td>2025.0</td>\n",
       "      <td>3.0</td>\n",
       "      <td>13.0</td>\n",
       "    </tr>\n",
       "    <tr>\n",
       "      <th>1</th>\n",
       "      <td>Massage Your Mouth...</td>\n",
       "      <td>2025-03-05</td>\n",
       "      <td>Science &amp; Technology</td>\n",
       "      <td>917282</td>\n",
       "      <td>5852</td>\n",
       "      <td>45</td>\n",
       "      <td>0.006429</td>\n",
       "      <td>Wednesday</td>\n",
       "      <td>2025.0</td>\n",
       "      <td>3.0</td>\n",
       "      <td>5.0</td>\n",
       "    </tr>\n",
       "    <tr>\n",
       "      <th>2</th>\n",
       "      <td>The Ultimate Limited Edition Gaming Phone</td>\n",
       "      <td>2025-02-27</td>\n",
       "      <td>Science &amp; Technology</td>\n",
       "      <td>1001785</td>\n",
       "      <td>23417</td>\n",
       "      <td>755</td>\n",
       "      <td>0.024129</td>\n",
       "      <td>Thursday</td>\n",
       "      <td>2025.0</td>\n",
       "      <td>2.0</td>\n",
       "      <td>27.0</td>\n",
       "    </tr>\n",
       "    <tr>\n",
       "      <th>3</th>\n",
       "      <td>The Unbelievably Thin Folding Smartphone...</td>\n",
       "      <td>2025-02-25</td>\n",
       "      <td>Science &amp; Technology</td>\n",
       "      <td>1194032</td>\n",
       "      <td>24983</td>\n",
       "      <td>819</td>\n",
       "      <td>0.021609</td>\n",
       "      <td>Tuesday</td>\n",
       "      <td>2025.0</td>\n",
       "      <td>2.0</td>\n",
       "      <td>25.0</td>\n",
       "    </tr>\n",
       "    <tr>\n",
       "      <th>4</th>\n",
       "      <td>Astonishing New Music Gadget...</td>\n",
       "      <td>2025-02-23</td>\n",
       "      <td>Science &amp; Technology</td>\n",
       "      <td>981959</td>\n",
       "      <td>17929</td>\n",
       "      <td>167</td>\n",
       "      <td>0.018428</td>\n",
       "      <td>Sunday</td>\n",
       "      <td>2025.0</td>\n",
       "      <td>2.0</td>\n",
       "      <td>23.0</td>\n",
       "    </tr>\n",
       "  </tbody>\n",
       "</table>\n",
       "</div>"
      ],
      "text/plain": [
       "                                      headline       date  \\\n",
       "0                    Can Fit in Your Closet... 2025-03-13   \n",
       "1                        Massage Your Mouth... 2025-03-05   \n",
       "2    The Ultimate Limited Edition Gaming Phone 2025-02-27   \n",
       "3  The Unbelievably Thin Folding Smartphone... 2025-02-25   \n",
       "4              Astonishing New Music Gadget... 2025-02-23   \n",
       "\n",
       "       grouped_category    views  likes  comments  engagement_rate  \\\n",
       "0  Science & Technology   273650   4911       307         0.019068   \n",
       "1  Science & Technology   917282   5852        45         0.006429   \n",
       "2  Science & Technology  1001785  23417       755         0.024129   \n",
       "3  Science & Technology  1194032  24983       819         0.021609   \n",
       "4  Science & Technology   981959  17929       167         0.018428   \n",
       "\n",
       "  day_of_week    year  month   day  \n",
       "0    Thursday  2025.0    3.0  13.0  \n",
       "1   Wednesday  2025.0    3.0   5.0  \n",
       "2    Thursday  2025.0    2.0  27.0  \n",
       "3     Tuesday  2025.0    2.0  25.0  \n",
       "4      Sunday  2025.0    2.0  23.0  "
      ]
     },
     "execution_count": 46,
     "metadata": {},
     "output_type": "execute_result"
    }
   ],
   "source": [
    "df.head()"
   ]
  },
  {
   "cell_type": "code",
   "execution_count": 47,
   "id": "5c8ea1df",
   "metadata": {},
   "outputs": [],
   "source": [
    "df.to_csv(\"youtube_data_sql.csv\")"
   ]
  },
  {
   "cell_type": "code",
   "execution_count": 48,
   "id": "a0f35881",
   "metadata": {},
   "outputs": [
    {
     "data": {
      "image/png": "[encoded data removed]",
      "text/plain": [
       "<Figure size 800x500 with 1 Axes>"
      ]
     },
     "metadata": {},
     "output_type": "display_data"
    }
   ],
   "source": [
    "plt.figure(figsize = (8,5))\n",
    "sns.countplot(data = df, x = \"day_of_week\")\n",
    "\n",
    "plt.xlabel(\"Day_of_Week\")\n",
    "plt.ylabel(\"Count\")\n",
    "plt.title(\"Total Count of the Days\")\n",
    "plt.show()"
   ]
  },
  {
   "cell_type": "code",
   "execution_count": 49,
   "id": "c0fc6db3",
   "metadata": {},
   "outputs": [
    {
     "data": {
      "image/png": "[encoded data removed]",
      "text/plain": [
       "<Figure size 800x500 with 1 Axes>"
      ]
     },
     "metadata": {},
     "output_type": "display_data"
    }
   ],
   "source": [
    "plt.figure(figsize=(8,5))\n",
    "sns.histplot(df['engagement_rate'], bins=30, kde=True, color=\"blue\")\n",
    "plt.title(\"Engagement Rate Distribution\")\n",
    "plt.xlabel(\"Engagement Rate\")\n",
    "plt.ylabel(\"Frequency\")\n",
    "plt.show()"
   ]
  },
  {
   "cell_type": "code",
   "execution_count": 51,
   "id": "60576add-92a1-4faa-93a5-2cc06bad3e34",
   "metadata": {},
   "outputs": [
    {
     "name": "stdout",
     "output_type": "stream",
     "text": [
      "Defaulting to user installation because normal site-packages is not writeable\n",
      "Collecting statsmodels\n",
      "  Downloading statsmodels-0.14.4-cp312-cp312-win_amd64.whl.metadata (9.5 kB)\n",
      "Requirement already satisfied: numpy<3,>=1.22.3 in c:\\users\\ricky\\appdata\\roaming\\python\\python312\\site-packages (from statsmodels) (2.2.4)\n",
      "Collecting scipy!=1.9.2,>=1.8 (from statsmodels)\n",
      "  Downloading scipy-1.15.2-cp312-cp312-win_amd64.whl.metadata (60 kB)\n",
      "Requirement already satisfied: pandas!=2.1.0,>=1.4 in c:\\users\\ricky\\appdata\\roaming\\python\\python312\\site-packages (from statsmodels) (2.2.3)\n",
      "Collecting patsy>=0.5.6 (from statsmodels)\n",
      "  Downloading patsy-1.0.1-py2.py3-none-any.whl.metadata (3.3 kB)\n",
      "Requirement already satisfied: packaging>=21.3 in c:\\users\\ricky\\appdata\\roaming\\python\\python312\\site-packages (from statsmodels) (24.2)\n",
      "Requirement already satisfied: python-dateutil>=2.8.2 in c:\\users\\ricky\\appdata\\roaming\\python\\python312\\site-packages (from pandas!=2.1.0,>=1.4->statsmodels) (2.9.0.post0)\n",
      "Requirement already satisfied: pytz>=2020.1 in c:\\users\\ricky\\appdata\\roaming\\python\\python312\\site-packages (from pandas!=2.1.0,>=1.4->statsmodels) (2025.1)\n",
      "Requirement already satisfied: tzdata>=2022.7 in c:\\users\\ricky\\appdata\\roaming\\python\\python312\\site-packages (from pandas!=2.1.0,>=1.4->statsmodels) (2024.2)\n",
      "Requirement already satisfied: six>=1.5 in c:\\users\\ricky\\appdata\\roaming\\python\\python312\\site-packages (from python-dateutil>=2.8.2->pandas!=2.1.0,>=1.4->statsmodels) (1.17.0)\n",
      "Downloading statsmodels-0.14.4-cp312-cp312-win_amd64.whl (9.8 MB)\n",
      "   ---------------------------------------- 0.0/9.8 MB ? eta -:--:--\n",
      "   ----- ---------------------------------- 1.3/9.8 MB 9.5 MB/s eta 0:00:01\n",
      "   -------------- ------------------------- 3.7/9.8 MB 9.9 MB/s eta 0:00:01\n",
      "   ------------------------- -------------- 6.3/9.8 MB 11.3 MB/s eta 0:00:01\n",
      "   ------------------------------------- -- 9.2/9.8 MB 11.9 MB/s eta 0:00:01\n",
      "   ---------------------------------------  9.7/9.8 MB 11.0 MB/s eta 0:00:01\n",
      "   ---------------------------------------  9.7/9.8 MB 11.0 MB/s eta 0:00:01\n",
      "   ---------------------------------------- 9.8/9.8 MB 7.1 MB/s eta 0:00:00\n",
      "Downloading patsy-1.0.1-py2.py3-none-any.whl (232 kB)\n",
      "Downloading scipy-1.15.2-cp312-cp312-win_amd64.whl (40.9 MB)\n",
      "   ---------------------------------------- 0.0/40.9 MB ? eta -:--:--\n",
      "   -- ------------------------------------- 2.6/40.9 MB 13.7 MB/s eta 0:00:03\n",
      "   ---- ----------------------------------- 5.0/40.9 MB 12.6 MB/s eta 0:00:03\n",
      "   ------- -------------------------------- 8.1/40.9 MB 13.2 MB/s eta 0:00:03\n",
      "   --------- ------------------------------ 10.0/40.9 MB 12.2 MB/s eta 0:00:03\n",
      "   ------------ --------------------------- 12.6/40.9 MB 12.1 MB/s eta 0:00:03\n",
      "   -------------- ------------------------- 15.2/40.9 MB 12.3 MB/s eta 0:00:03\n",
      "   ----------------- ---------------------- 18.1/40.9 MB 12.5 MB/s eta 0:00:02\n",
      "   ------------------- -------------------- 20.4/40.9 MB 12.4 MB/s eta 0:00:02\n",
      "   ---------------------- ----------------- 23.1/40.9 MB 12.5 MB/s eta 0:00:02\n",
      "   ------------------------- -------------- 25.7/40.9 MB 12.4 MB/s eta 0:00:02\n",
      "   -------------------------- ------------- 27.3/40.9 MB 12.4 MB/s eta 0:00:02\n",
      "   ---------------------------- ----------- 28.8/40.9 MB 11.6 MB/s eta 0:00:02\n",
      "   ------------------------------ --------- 31.2/40.9 MB 11.6 MB/s eta 0:00:01\n",
      "   -------------------------------- ------- 33.3/40.9 MB 11.4 MB/s eta 0:00:01\n",
      "   ----------------------------------- ---- 36.2/40.9 MB 11.6 MB/s eta 0:00:01\n",
      "   -------------------------------------- - 39.3/40.9 MB 11.8 MB/s eta 0:00:01\n",
      "   ---------------------------------------  40.9/40.9 MB 11.9 MB/s eta 0:00:01\n",
      "   ---------------------------------------- 40.9/40.9 MB 10.9 MB/s eta 0:00:00\n",
      "Installing collected packages: scipy, patsy, statsmodels\n",
      "Successfully installed patsy-1.0.1 scipy-1.15.2 statsmodels-0.14.4\n",
      "Note: you may need to restart the kernel to use updated packages.\n"
     ]
    }
   ],
   "source": [
    "pip install statsmodels"
   ]
  },
  {
   "cell_type": "code",
   "execution_count": 50,
   "id": "44628c9e",
   "metadata": {},
   "outputs": [
    {
     "ename": "ModuleNotFoundError",
     "evalue": "No module named 'statsmodels'",
     "output_type": "error",
     "traceback": [
      "\u001b[31m---------------------------------------------------------------------------\u001b[39m",
      "\u001b[31mModuleNotFoundError\u001b[39m                       Traceback (most recent call last)",
      "\u001b[36mCell\u001b[39m\u001b[36m \u001b[39m\u001b[32mIn[50]\u001b[39m\u001b[32m, line 1\u001b[39m\n\u001b[32m----> \u001b[39m\u001b[32m1\u001b[39m \u001b[38;5;28;01mfrom\u001b[39;00m\u001b[38;5;250m \u001b[39m\u001b[34;01mstatsmodels\u001b[39;00m\u001b[34;01m.\u001b[39;00m\u001b[34;01mtsa\u001b[39;00m\u001b[34;01m.\u001b[39;00m\u001b[34;01mstattools\u001b[39;00m\u001b[38;5;250m \u001b[39m\u001b[38;5;28;01mimport\u001b[39;00m adfuller\n\u001b[32m      3\u001b[39m result = adfuller(df[\u001b[33m'\u001b[39m\u001b[33mengagement_rate\u001b[39m\u001b[33m'\u001b[39m].dropna())\n\u001b[32m      5\u001b[39m \u001b[38;5;28mprint\u001b[39m(\u001b[33mf\u001b[39m\u001b[33m\"\u001b[39m\u001b[33mADF Statistic: \u001b[39m\u001b[38;5;132;01m{\u001b[39;00mresult[\u001b[32m0\u001b[39m]\u001b[38;5;132;01m}\u001b[39;00m\u001b[33m\"\u001b[39m)\n",
      "\u001b[31mModuleNotFoundError\u001b[39m: No module named 'statsmodels'"
     ]
    }
   ],
   "source": [
    "from statsmodels.tsa.stattools import adfuller\n",
    "\n",
    "result = adfuller(df['engagement_rate'].dropna())\n",
    "\n",
    "print(f\"ADF Statistic: {result[0]}\")\n",
    "print(f\"p-value: {result[1]}\")\n",
    "\n",
    "if result[1] < 0.05:\n",
    "    print(\"The data is stationary (No need for differencing).\")\n",
    "else:\n",
    "    print(\"The data is non-stationary (Differencing needed).\")"
   ]
  },
  {
   "cell_type": "code",
   "execution_count": null,
   "id": "7ef7a6a6",
   "metadata": {},
   "outputs": [],
   "source": [
    "from statsmodels.tsa.arima.model import ARIMA\n",
    "\n",
    "# Fit ARIMA model (p=1, d=1, q=1 as a starting point)\n",
    "model = ARIMA(df['engagement_rate'], order=(1,1,1))  # Adjust order as needed\n",
    "model_fit = model.fit()\n",
    "\n",
    "# Forecast next 30 days\n",
    "forecast = model_fit.forecast(steps=30)\n",
    "\n",
    "# Plot results\n",
    "plt.figure(figsize=(10,5))\n",
    "plt.plot(df.index, df['engagement_rate'], label=\"Actual Engagement\")\n",
    "plt.plot(pd.date_range(df.index[-1], periods=30, freq='D'), forecast, label=\"Predicted Engagement\", linestyle=\"dashed\", color=\"red\")\n",
    "plt.xlabel(\"Date\")\n",
    "plt.ylabel(\"Engagement Rate\")\n",
    "plt.legend()\n",
    "plt.title(\"ARIMA Engagement Rate Forecast\")\n",
    "plt.show()\n"
   ]
  },
  {
   "cell_type": "code",
   "execution_count": null,
   "id": "8f12a772",
   "metadata": {},
   "outputs": [],
   "source": [
    "!pip install prophet"
   ]
  },
  {
   "cell_type": "code",
   "execution_count": null,
   "id": "f4a9d9a6",
   "metadata": {},
   "outputs": [],
   "source": [
    "from prophet import Prophet\n",
    "\n",
    "# Reset index for Prophet\n",
    "df_prophet = df.reset_index()\n",
    "df_prophet.rename(columns={\"date\": \"ds\", \"engagement_rate\": \"y\"}, inplace=True)\n",
    "\n",
    "# Initialize and Fit Prophet Model\n",
    "model = Prophet()\n",
    "model.fit(df_prophet)\n",
    "\n",
    "# Create Future Dates (30 days ahead)\n",
    "future = model.make_future_dataframe(periods=30)\n",
    "\n",
    "# Predict Future Engagement Rate\n",
    "forecast = model.predict(future)\n",
    "\n",
    "# Plot Results\n",
    "model.plot(forecast)\n",
    "plt.title(\"Prophet Engagement Rate Forecast\")\n",
    "plt.show()\n"
   ]
  },
  {
   "cell_type": "code",
   "execution_count": null,
   "id": "5ea66d5f",
   "metadata": {},
   "outputs": [],
   "source": [
    "# Create dim_content table (Unique headlines & categories)\n",
    "dim_content = df[['headline', 'grouped_category']].drop_duplicates().reset_index(drop=True)\n",
    "dim_content['headline_id'] = dim_content.index + 1  # Assign unique ID\n",
    "\n",
    "print(dim_content.head())\n"
   ]
  },
  {
   "cell_type": "code",
   "execution_count": null,
   "id": "204897ae",
   "metadata": {},
   "outputs": [],
   "source": [
    "# Convert 'date' column to datetime\n",
    "df['date'] = pd.to_datetime(df['date'], errors='coerce')\n",
    "\n",
    "# Create dim_date table (Unique dates)\n",
    "dim_date = df[['date', 'day_of_week']].drop_duplicates().reset_index(drop=True)\n",
    "dim_date['date_id'] = dim_date.index + 1  # Assign unique ID\n",
    "dim_date.rename(columns={'date': 'full_date'}, inplace=True)\n",
    "\n",
    "print(dim_date.head())\n"
   ]
  },
  {
   "cell_type": "code",
   "execution_count": null,
   "id": "c64f1dac",
   "metadata": {},
   "outputs": [],
   "source": [
    "# Merge with dim_content to get headline_id\n",
    "fact_engagement = df.merge(dim_content, on=['headline', 'grouped_category'], how='left')[['headline_id', 'date', 'views', 'likes', 'comments', 'engagement_rate']]\n",
    "\n",
    "# Merge with dim_date to get date_id\n",
    "fact_engagement = fact_engagement.merge(dim_date, left_on='date', right_on='full_date', how='left')[['headline_id', 'date_id', 'views', 'likes', 'comments', 'engagement_rate']]\n",
    "\n",
    "print(fact_engagement.head())\n"
   ]
  },
  {
   "cell_type": "code",
   "execution_count": null,
   "id": "a5f0912b",
   "metadata": {},
   "outputs": [],
   "source": [
    "\n"
   ]
  },
  {
   "cell_type": "code",
   "execution_count": null,
   "id": "273657eb",
   "metadata": {},
   "outputs": [],
   "source": [
    "\n"
   ]
  },
  {
   "cell_type": "code",
   "execution_count": null,
   "id": "f546f7f0",
   "metadata": {},
   "outputs": [],
   "source": []
  },
  {
   "cell_type": "code",
   "execution_count": null,
   "id": "a912045a",
   "metadata": {},
   "outputs": [],
   "source": []
  },
  {
   "cell_type": "code",
   "execution_count": null,
   "id": "37b38b6f",
   "metadata": {},
   "outputs": [],
   "source": []
  },
  {
   "cell_type": "code",
   "execution_count": null,
   "id": "4745b9ae",
   "metadata": {},
   "outputs": [],
   "source": []
  }
 ],
 "metadata": {
  "kernelspec": {
   "display_name": "Python 3 (ipykernel)",
   "language": "python",
   "name": "python3"
  },
  "language_info": {
   "codemirror_mode": {
    "name": "ipython",
    "version": 3
   },
   "file_extension": ".py",
   "mimetype": "text/x-python",
   "name": "python",
   "nbconvert_exporter": "python",
   "pygments_lexer": "ipython3",
   "version": "3.12.6"
  }
 },
 "nbformat": 4,
 "nbformat_minor": 5
}
